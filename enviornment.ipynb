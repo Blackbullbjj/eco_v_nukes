{
 "cells": [
  {
   "cell_type": "code",
   "execution_count": 1,
   "metadata": {},
   "outputs": [],
   "source": [
    "import numpy as np\n",
    "import pandas as pd\n",
    "import plotly.express as px\n",
    "import plotly.graph_objects as go\n",
    "import matplotlib.pyplot as plt \n",
    "from sklearn.model_selection import KFold\n",
    "from sklearn.neighbors import KNeighborsRegressor\n",
    "from sklearn.metrics import mean_squared_error\n",
    "\n"
   ]
  },
  {
   "cell_type": "code",
   "execution_count": 2,
   "metadata": {},
   "outputs": [
    {
     "data": {
      "text/html": [
       "<div>\n",
       "<style scoped>\n",
       "    .dataframe tbody tr th:only-of-type {\n",
       "        vertical-align: middle;\n",
       "    }\n",
       "\n",
       "    .dataframe tbody tr th {\n",
       "        vertical-align: top;\n",
       "    }\n",
       "\n",
       "    .dataframe thead th {\n",
       "        text-align: right;\n",
       "    }\n",
       "</style>\n",
       "<table border=\"1\" class=\"dataframe\">\n",
       "  <thead>\n",
       "    <tr style=\"text-align: right;\">\n",
       "      <th></th>\n",
       "      <th>Country</th>\n",
       "      <th>Code</th>\n",
       "      <th>ContinentCode</th>\n",
       "      <th>Year</th>\n",
       "      <th>Economic growth: the rate of change of real GDP</th>\n",
       "      <th>GDP per capita current U.S. dollars</th>\n",
       "      <th>GDP per capita Purchasing Power Parity</th>\n",
       "      <th>GDP per capita constant 2010 dollars</th>\n",
       "      <th>Trade openness: exports plus imports as percent of GDP</th>\n",
       "      <th>Government spending as percent of GDP</th>\n",
       "      <th>...</th>\n",
       "      <th>Oil production thousand barrels per day</th>\n",
       "      <th>Gasoline production thousand barrels per day</th>\n",
       "      <th>Liquefied petroleum gas production thousand barrels per day</th>\n",
       "      <th>Nuclear electricity capacity million kilowatts</th>\n",
       "      <th>Nuclear power generation billion kilowatthours</th>\n",
       "      <th>Military spending in billion U.S. dollars</th>\n",
       "      <th>Military spending percent of GDP</th>\n",
       "      <th>Military spending percent of total government spending</th>\n",
       "      <th>Armed forces personnel</th>\n",
       "      <th>Human Development Index (0 - 1)</th>\n",
       "    </tr>\n",
       "  </thead>\n",
       "  <tbody>\n",
       "    <tr>\n",
       "      <th>0</th>\n",
       "      <td>Afghanistan</td>\n",
       "      <td>AFG</td>\n",
       "      <td>AS</td>\n",
       "      <td>1960</td>\n",
       "      <td>NaN</td>\n",
       "      <td>62.37</td>\n",
       "      <td>NaN</td>\n",
       "      <td>NaN</td>\n",
       "      <td>11.16</td>\n",
       "      <td>NaN</td>\n",
       "      <td>...</td>\n",
       "      <td>NaN</td>\n",
       "      <td>NaN</td>\n",
       "      <td>NaN</td>\n",
       "      <td>NaN</td>\n",
       "      <td>NaN</td>\n",
       "      <td>NaN</td>\n",
       "      <td>NaN</td>\n",
       "      <td>NaN</td>\n",
       "      <td>NaN</td>\n",
       "      <td>NaN</td>\n",
       "    </tr>\n",
       "    <tr>\n",
       "      <th>1</th>\n",
       "      <td>Afghanistan</td>\n",
       "      <td>AFG</td>\n",
       "      <td>AS</td>\n",
       "      <td>1961</td>\n",
       "      <td>NaN</td>\n",
       "      <td>62.44</td>\n",
       "      <td>NaN</td>\n",
       "      <td>NaN</td>\n",
       "      <td>12.55</td>\n",
       "      <td>NaN</td>\n",
       "      <td>...</td>\n",
       "      <td>NaN</td>\n",
       "      <td>NaN</td>\n",
       "      <td>NaN</td>\n",
       "      <td>NaN</td>\n",
       "      <td>NaN</td>\n",
       "      <td>NaN</td>\n",
       "      <td>NaN</td>\n",
       "      <td>NaN</td>\n",
       "      <td>NaN</td>\n",
       "      <td>NaN</td>\n",
       "    </tr>\n",
       "    <tr>\n",
       "      <th>2</th>\n",
       "      <td>Afghanistan</td>\n",
       "      <td>AFG</td>\n",
       "      <td>AS</td>\n",
       "      <td>1962</td>\n",
       "      <td>NaN</td>\n",
       "      <td>60.95</td>\n",
       "      <td>NaN</td>\n",
       "      <td>NaN</td>\n",
       "      <td>14.23</td>\n",
       "      <td>NaN</td>\n",
       "      <td>...</td>\n",
       "      <td>NaN</td>\n",
       "      <td>NaN</td>\n",
       "      <td>NaN</td>\n",
       "      <td>NaN</td>\n",
       "      <td>NaN</td>\n",
       "      <td>NaN</td>\n",
       "      <td>NaN</td>\n",
       "      <td>NaN</td>\n",
       "      <td>NaN</td>\n",
       "      <td>NaN</td>\n",
       "    </tr>\n",
       "    <tr>\n",
       "      <th>3</th>\n",
       "      <td>Afghanistan</td>\n",
       "      <td>AFG</td>\n",
       "      <td>AS</td>\n",
       "      <td>1963</td>\n",
       "      <td>NaN</td>\n",
       "      <td>82.02</td>\n",
       "      <td>NaN</td>\n",
       "      <td>NaN</td>\n",
       "      <td>26.04</td>\n",
       "      <td>NaN</td>\n",
       "      <td>...</td>\n",
       "      <td>NaN</td>\n",
       "      <td>NaN</td>\n",
       "      <td>NaN</td>\n",
       "      <td>NaN</td>\n",
       "      <td>NaN</td>\n",
       "      <td>NaN</td>\n",
       "      <td>NaN</td>\n",
       "      <td>NaN</td>\n",
       "      <td>NaN</td>\n",
       "      <td>NaN</td>\n",
       "    </tr>\n",
       "    <tr>\n",
       "      <th>4</th>\n",
       "      <td>Afghanistan</td>\n",
       "      <td>AFG</td>\n",
       "      <td>AS</td>\n",
       "      <td>1964</td>\n",
       "      <td>NaN</td>\n",
       "      <td>85.51</td>\n",
       "      <td>NaN</td>\n",
       "      <td>NaN</td>\n",
       "      <td>26.94</td>\n",
       "      <td>NaN</td>\n",
       "      <td>...</td>\n",
       "      <td>NaN</td>\n",
       "      <td>NaN</td>\n",
       "      <td>NaN</td>\n",
       "      <td>NaN</td>\n",
       "      <td>NaN</td>\n",
       "      <td>NaN</td>\n",
       "      <td>NaN</td>\n",
       "      <td>NaN</td>\n",
       "      <td>NaN</td>\n",
       "      <td>NaN</td>\n",
       "    </tr>\n",
       "  </tbody>\n",
       "</table>\n",
       "<p>5 rows × 23 columns</p>\n",
       "</div>"
      ],
      "text/plain": [
       "       Country Code ContinentCode  Year  \\\n",
       "0  Afghanistan  AFG            AS  1960   \n",
       "1  Afghanistan  AFG            AS  1961   \n",
       "2  Afghanistan  AFG            AS  1962   \n",
       "3  Afghanistan  AFG            AS  1963   \n",
       "4  Afghanistan  AFG            AS  1964   \n",
       "\n",
       "   Economic growth: the rate of change of real GDP  \\\n",
       "0                                              NaN   \n",
       "1                                              NaN   \n",
       "2                                              NaN   \n",
       "3                                              NaN   \n",
       "4                                              NaN   \n",
       "\n",
       "   GDP per capita current U.S. dollars  \\\n",
       "0                                62.37   \n",
       "1                                62.44   \n",
       "2                                60.95   \n",
       "3                                82.02   \n",
       "4                                85.51   \n",
       "\n",
       "   GDP per capita Purchasing Power Parity  \\\n",
       "0                                     NaN   \n",
       "1                                     NaN   \n",
       "2                                     NaN   \n",
       "3                                     NaN   \n",
       "4                                     NaN   \n",
       "\n",
       "   GDP per capita constant 2010 dollars  \\\n",
       "0                                   NaN   \n",
       "1                                   NaN   \n",
       "2                                   NaN   \n",
       "3                                   NaN   \n",
       "4                                   NaN   \n",
       "\n",
       "   Trade openness: exports plus imports as percent of GDP  \\\n",
       "0                                              11.16        \n",
       "1                                              12.55        \n",
       "2                                              14.23        \n",
       "3                                              26.04        \n",
       "4                                              26.94        \n",
       "\n",
       "   Government spending as percent of GDP  ...  \\\n",
       "0                                    NaN  ...   \n",
       "1                                    NaN  ...   \n",
       "2                                    NaN  ...   \n",
       "3                                    NaN  ...   \n",
       "4                                    NaN  ...   \n",
       "\n",
       "   Oil production thousand barrels per day  \\\n",
       "0                                      NaN   \n",
       "1                                      NaN   \n",
       "2                                      NaN   \n",
       "3                                      NaN   \n",
       "4                                      NaN   \n",
       "\n",
       "   Gasoline production thousand barrels per day  \\\n",
       "0                                           NaN   \n",
       "1                                           NaN   \n",
       "2                                           NaN   \n",
       "3                                           NaN   \n",
       "4                                           NaN   \n",
       "\n",
       "   Liquefied petroleum gas production thousand barrels per day  \\\n",
       "0                                                NaN             \n",
       "1                                                NaN             \n",
       "2                                                NaN             \n",
       "3                                                NaN             \n",
       "4                                                NaN             \n",
       "\n",
       "   Nuclear electricity capacity million kilowatts  \\\n",
       "0                                             NaN   \n",
       "1                                             NaN   \n",
       "2                                             NaN   \n",
       "3                                             NaN   \n",
       "4                                             NaN   \n",
       "\n",
       "   Nuclear power generation billion kilowatthours  \\\n",
       "0                                             NaN   \n",
       "1                                             NaN   \n",
       "2                                             NaN   \n",
       "3                                             NaN   \n",
       "4                                             NaN   \n",
       "\n",
       "   Military spending in billion U.S. dollars  \\\n",
       "0                                        NaN   \n",
       "1                                        NaN   \n",
       "2                                        NaN   \n",
       "3                                        NaN   \n",
       "4                                        NaN   \n",
       "\n",
       "   Military spending percent of GDP  \\\n",
       "0                               NaN   \n",
       "1                               NaN   \n",
       "2                               NaN   \n",
       "3                               NaN   \n",
       "4                               NaN   \n",
       "\n",
       "   Military spending percent of total government spending   \\\n",
       "0                                                NaN         \n",
       "1                                                NaN         \n",
       "2                                                NaN         \n",
       "3                                                NaN         \n",
       "4                                                NaN         \n",
       "\n",
       "   Armed forces personnel  Human Development Index (0 - 1)  \n",
       "0                     NaN                              NaN  \n",
       "1                     NaN                              NaN  \n",
       "2                     NaN                              NaN  \n",
       "3                     NaN                              NaN  \n",
       "4                     NaN                              NaN  \n",
       "\n",
       "[5 rows x 23 columns]"
      ]
     },
     "execution_count": 2,
     "metadata": {},
     "output_type": "execute_result"
    }
   ],
   "source": [
    "mass_data = pd.read_csv(\"../eco_v_nukes/data/18-07-24 09_35_36_theglobaleconomy.csv\")\n",
    "mass_data.head()"
   ]
  },
  {
   "cell_type": "code",
   "execution_count": 3,
   "metadata": {},
   "outputs": [
    {
     "data": {
      "text/html": [
       "<div>\n",
       "<style scoped>\n",
       "    .dataframe tbody tr th:only-of-type {\n",
       "        vertical-align: middle;\n",
       "    }\n",
       "\n",
       "    .dataframe tbody tr th {\n",
       "        vertical-align: top;\n",
       "    }\n",
       "\n",
       "    .dataframe thead th {\n",
       "        text-align: right;\n",
       "    }\n",
       "</style>\n",
       "<table border=\"1\" class=\"dataframe\">\n",
       "  <thead>\n",
       "    <tr style=\"text-align: right;\">\n",
       "      <th></th>\n",
       "      <th>Country</th>\n",
       "      <th>Code</th>\n",
       "      <th>ContinentCode</th>\n",
       "      <th>Year</th>\n",
       "      <th>Economic growth: the rate of change of real GDP</th>\n",
       "      <th>GDP per capita current U.S. dollars</th>\n",
       "      <th>GDP per capita Purchasing Power Parity</th>\n",
       "      <th>GDP per capita constant 2010 dollars</th>\n",
       "      <th>Trade openness: exports plus imports as percent of GDP</th>\n",
       "      <th>Government spending as percent of GDP</th>\n",
       "      <th>...</th>\n",
       "      <th>Oil production thousand barrels per day</th>\n",
       "      <th>Gasoline production thousand barrels per day</th>\n",
       "      <th>Liquefied petroleum gas production thousand barrels per day</th>\n",
       "      <th>Nuclear electricity capacity million kilowatts</th>\n",
       "      <th>Nuclear power generation billion kilowatthours</th>\n",
       "      <th>Military spending in billion U.S. dollars</th>\n",
       "      <th>Military spending percent of GDP</th>\n",
       "      <th>Military spending percent of total government spending</th>\n",
       "      <th>Armed forces personnel</th>\n",
       "      <th>Human Development Index (0 - 1)</th>\n",
       "    </tr>\n",
       "  </thead>\n",
       "  <tbody>\n",
       "    <tr>\n",
       "      <th>7547</th>\n",
       "      <td>Oman</td>\n",
       "      <td>OMN</td>\n",
       "      <td>AS</td>\n",
       "      <td>2020</td>\n",
       "      <td>-3.38</td>\n",
       "      <td>16707.62</td>\n",
       "      <td>33098.0</td>\n",
       "      <td>17662.24</td>\n",
       "      <td>91.88</td>\n",
       "      <td>26.07</td>\n",
       "      <td>...</td>\n",
       "      <td>949.02</td>\n",
       "      <td>NaN</td>\n",
       "      <td>NaN</td>\n",
       "      <td>0.0</td>\n",
       "      <td>0.0</td>\n",
       "      <td>6.10</td>\n",
       "      <td>8.03</td>\n",
       "      <td>18.03</td>\n",
       "      <td>47000.0</td>\n",
       "      <td>0.813</td>\n",
       "    </tr>\n",
       "    <tr>\n",
       "      <th>1153</th>\n",
       "      <td>Bhutan</td>\n",
       "      <td>BTN</td>\n",
       "      <td>AS</td>\n",
       "      <td>1987</td>\n",
       "      <td>29.05</td>\n",
       "      <td>472.24</td>\n",
       "      <td>NaN</td>\n",
       "      <td>653.88</td>\n",
       "      <td>64.28</td>\n",
       "      <td>14.63</td>\n",
       "      <td>...</td>\n",
       "      <td>NaN</td>\n",
       "      <td>0.00</td>\n",
       "      <td>0.00</td>\n",
       "      <td>0.0</td>\n",
       "      <td>0.0</td>\n",
       "      <td>NaN</td>\n",
       "      <td>NaN</td>\n",
       "      <td>NaN</td>\n",
       "      <td>NaN</td>\n",
       "      <td>NaN</td>\n",
       "    </tr>\n",
       "    <tr>\n",
       "      <th>4157</th>\n",
       "      <td>Guyana</td>\n",
       "      <td>GUY</td>\n",
       "      <td>SA</td>\n",
       "      <td>2007</td>\n",
       "      <td>7.19</td>\n",
       "      <td>3609.91</td>\n",
       "      <td>8853.0</td>\n",
       "      <td>4384.07</td>\n",
       "      <td>NaN</td>\n",
       "      <td>NaN</td>\n",
       "      <td>...</td>\n",
       "      <td>0.00</td>\n",
       "      <td>0.00</td>\n",
       "      <td>0.00</td>\n",
       "      <td>0.0</td>\n",
       "      <td>0.0</td>\n",
       "      <td>0.02</td>\n",
       "      <td>0.91</td>\n",
       "      <td>4.41</td>\n",
       "      <td>3000.0</td>\n",
       "      <td>0.627</td>\n",
       "    </tr>\n",
       "    <tr>\n",
       "      <th>258</th>\n",
       "      <td>Angola</td>\n",
       "      <td>AGO</td>\n",
       "      <td>AF</td>\n",
       "      <td>2001</td>\n",
       "      <td>4.21</td>\n",
       "      <td>527.46</td>\n",
       "      <td>4768.0</td>\n",
       "      <td>1925.51</td>\n",
       "      <td>NaN</td>\n",
       "      <td>NaN</td>\n",
       "      <td>...</td>\n",
       "      <td>739.28</td>\n",
       "      <td>2.50</td>\n",
       "      <td>1.04</td>\n",
       "      <td>0.0</td>\n",
       "      <td>0.0</td>\n",
       "      <td>0.40</td>\n",
       "      <td>4.52</td>\n",
       "      <td>10.79</td>\n",
       "      <td>145500.0</td>\n",
       "      <td>0.404</td>\n",
       "    </tr>\n",
       "    <tr>\n",
       "      <th>2535</th>\n",
       "      <td>Democratic Republic of the Congo</td>\n",
       "      <td>COD</td>\n",
       "      <td>AF</td>\n",
       "      <td>1967</td>\n",
       "      <td>-0.99</td>\n",
       "      <td>NaN</td>\n",
       "      <td>NaN</td>\n",
       "      <td>1228.86</td>\n",
       "      <td>NaN</td>\n",
       "      <td>NaN</td>\n",
       "      <td>...</td>\n",
       "      <td>NaN</td>\n",
       "      <td>NaN</td>\n",
       "      <td>NaN</td>\n",
       "      <td>NaN</td>\n",
       "      <td>NaN</td>\n",
       "      <td>0.05</td>\n",
       "      <td>NaN</td>\n",
       "      <td>NaN</td>\n",
       "      <td>NaN</td>\n",
       "      <td>NaN</td>\n",
       "    </tr>\n",
       "    <tr>\n",
       "      <th>1747</th>\n",
       "      <td>Cambodia</td>\n",
       "      <td>KHM</td>\n",
       "      <td>AS</td>\n",
       "      <td>2003</td>\n",
       "      <td>8.51</td>\n",
       "      <td>364.28</td>\n",
       "      <td>1761.0</td>\n",
       "      <td>578.41</td>\n",
       "      <td>123.08</td>\n",
       "      <td>5.26</td>\n",
       "      <td>...</td>\n",
       "      <td>NaN</td>\n",
       "      <td>0.00</td>\n",
       "      <td>0.00</td>\n",
       "      <td>0.0</td>\n",
       "      <td>0.0</td>\n",
       "      <td>0.07</td>\n",
       "      <td>1.45</td>\n",
       "      <td>9.19</td>\n",
       "      <td>192000.0</td>\n",
       "      <td>0.466</td>\n",
       "    </tr>\n",
       "    <tr>\n",
       "      <th>2972</th>\n",
       "      <td>El Salvador</td>\n",
       "      <td>SLV</td>\n",
       "      <td>NaN</td>\n",
       "      <td>1991</td>\n",
       "      <td>1.49</td>\n",
       "      <td>961.78</td>\n",
       "      <td>5177.0</td>\n",
       "      <td>2356.52</td>\n",
       "      <td>47.75</td>\n",
       "      <td>10.18</td>\n",
       "      <td>...</td>\n",
       "      <td>NaN</td>\n",
       "      <td>3.10</td>\n",
       "      <td>0.90</td>\n",
       "      <td>0.0</td>\n",
       "      <td>0.0</td>\n",
       "      <td>0.15</td>\n",
       "      <td>2.73</td>\n",
       "      <td>14.90</td>\n",
       "      <td>60000.0</td>\n",
       "      <td>0.533</td>\n",
       "    </tr>\n",
       "    <tr>\n",
       "      <th>8161</th>\n",
       "      <td>Puerto Rico</td>\n",
       "      <td>PRI</td>\n",
       "      <td>NaN</td>\n",
       "      <td>2004</td>\n",
       "      <td>8.75</td>\n",
       "      <td>20988.99</td>\n",
       "      <td>35017.0</td>\n",
       "      <td>30375.84</td>\n",
       "      <td>117.00</td>\n",
       "      <td>11.33</td>\n",
       "      <td>...</td>\n",
       "      <td>0.00</td>\n",
       "      <td>19.52</td>\n",
       "      <td>0.00</td>\n",
       "      <td>0.0</td>\n",
       "      <td>0.0</td>\n",
       "      <td>NaN</td>\n",
       "      <td>NaN</td>\n",
       "      <td>NaN</td>\n",
       "      <td>NaN</td>\n",
       "      <td>NaN</td>\n",
       "    </tr>\n",
       "    <tr>\n",
       "      <th>6904</th>\n",
       "      <td>Namibia</td>\n",
       "      <td>NAM</td>\n",
       "      <td>AF</td>\n",
       "      <td>2019</td>\n",
       "      <td>-0.84</td>\n",
       "      <td>5126.18</td>\n",
       "      <td>10010.0</td>\n",
       "      <td>4596.62</td>\n",
       "      <td>82.90</td>\n",
       "      <td>25.55</td>\n",
       "      <td>...</td>\n",
       "      <td>0.00</td>\n",
       "      <td>NaN</td>\n",
       "      <td>NaN</td>\n",
       "      <td>0.0</td>\n",
       "      <td>0.0</td>\n",
       "      <td>0.41</td>\n",
       "      <td>3.30</td>\n",
       "      <td>8.81</td>\n",
       "      <td>16000.0</td>\n",
       "      <td>0.645</td>\n",
       "    </tr>\n",
       "    <tr>\n",
       "      <th>975</th>\n",
       "      <td>Belize</td>\n",
       "      <td>BLZ</td>\n",
       "      <td>NaN</td>\n",
       "      <td>1980</td>\n",
       "      <td>13.44</td>\n",
       "      <td>1363.84</td>\n",
       "      <td>NaN</td>\n",
       "      <td>3231.27</td>\n",
       "      <td>102.34</td>\n",
       "      <td>15.46</td>\n",
       "      <td>...</td>\n",
       "      <td>NaN</td>\n",
       "      <td>NaN</td>\n",
       "      <td>NaN</td>\n",
       "      <td>0.0</td>\n",
       "      <td>0.0</td>\n",
       "      <td>NaN</td>\n",
       "      <td>NaN</td>\n",
       "      <td>NaN</td>\n",
       "      <td>NaN</td>\n",
       "      <td>0.619</td>\n",
       "    </tr>\n",
       "  </tbody>\n",
       "</table>\n",
       "<p>10 rows × 23 columns</p>\n",
       "</div>"
      ],
      "text/plain": [
       "                               Country Code ContinentCode  Year  \\\n",
       "7547                              Oman  OMN            AS  2020   \n",
       "1153                            Bhutan  BTN            AS  1987   \n",
       "4157                            Guyana  GUY            SA  2007   \n",
       "258                             Angola  AGO            AF  2001   \n",
       "2535  Democratic Republic of the Congo  COD            AF  1967   \n",
       "1747                          Cambodia  KHM            AS  2003   \n",
       "2972                       El Salvador  SLV           NaN  1991   \n",
       "8161                       Puerto Rico  PRI           NaN  2004   \n",
       "6904                           Namibia  NAM            AF  2019   \n",
       "975                             Belize  BLZ           NaN  1980   \n",
       "\n",
       "      Economic growth: the rate of change of real GDP  \\\n",
       "7547                                            -3.38   \n",
       "1153                                            29.05   \n",
       "4157                                             7.19   \n",
       "258                                              4.21   \n",
       "2535                                            -0.99   \n",
       "1747                                             8.51   \n",
       "2972                                             1.49   \n",
       "8161                                             8.75   \n",
       "6904                                            -0.84   \n",
       "975                                             13.44   \n",
       "\n",
       "      GDP per capita current U.S. dollars  \\\n",
       "7547                             16707.62   \n",
       "1153                               472.24   \n",
       "4157                              3609.91   \n",
       "258                                527.46   \n",
       "2535                                  NaN   \n",
       "1747                               364.28   \n",
       "2972                               961.78   \n",
       "8161                             20988.99   \n",
       "6904                              5126.18   \n",
       "975                               1363.84   \n",
       "\n",
       "      GDP per capita Purchasing Power Parity  \\\n",
       "7547                                 33098.0   \n",
       "1153                                     NaN   \n",
       "4157                                  8853.0   \n",
       "258                                   4768.0   \n",
       "2535                                     NaN   \n",
       "1747                                  1761.0   \n",
       "2972                                  5177.0   \n",
       "8161                                 35017.0   \n",
       "6904                                 10010.0   \n",
       "975                                      NaN   \n",
       "\n",
       "      GDP per capita constant 2010 dollars  \\\n",
       "7547                              17662.24   \n",
       "1153                                653.88   \n",
       "4157                               4384.07   \n",
       "258                                1925.51   \n",
       "2535                               1228.86   \n",
       "1747                                578.41   \n",
       "2972                               2356.52   \n",
       "8161                              30375.84   \n",
       "6904                               4596.62   \n",
       "975                                3231.27   \n",
       "\n",
       "      Trade openness: exports plus imports as percent of GDP  \\\n",
       "7547                                              91.88        \n",
       "1153                                              64.28        \n",
       "4157                                                NaN        \n",
       "258                                                 NaN        \n",
       "2535                                                NaN        \n",
       "1747                                             123.08        \n",
       "2972                                              47.75        \n",
       "8161                                             117.00        \n",
       "6904                                              82.90        \n",
       "975                                              102.34        \n",
       "\n",
       "      Government spending as percent of GDP  ...  \\\n",
       "7547                                  26.07  ...   \n",
       "1153                                  14.63  ...   \n",
       "4157                                    NaN  ...   \n",
       "258                                     NaN  ...   \n",
       "2535                                    NaN  ...   \n",
       "1747                                   5.26  ...   \n",
       "2972                                  10.18  ...   \n",
       "8161                                  11.33  ...   \n",
       "6904                                  25.55  ...   \n",
       "975                                   15.46  ...   \n",
       "\n",
       "      Oil production thousand barrels per day  \\\n",
       "7547                                   949.02   \n",
       "1153                                      NaN   \n",
       "4157                                     0.00   \n",
       "258                                    739.28   \n",
       "2535                                      NaN   \n",
       "1747                                      NaN   \n",
       "2972                                      NaN   \n",
       "8161                                     0.00   \n",
       "6904                                     0.00   \n",
       "975                                       NaN   \n",
       "\n",
       "      Gasoline production thousand barrels per day  \\\n",
       "7547                                           NaN   \n",
       "1153                                          0.00   \n",
       "4157                                          0.00   \n",
       "258                                           2.50   \n",
       "2535                                           NaN   \n",
       "1747                                          0.00   \n",
       "2972                                          3.10   \n",
       "8161                                         19.52   \n",
       "6904                                           NaN   \n",
       "975                                            NaN   \n",
       "\n",
       "      Liquefied petroleum gas production thousand barrels per day  \\\n",
       "7547                                                NaN             \n",
       "1153                                               0.00             \n",
       "4157                                               0.00             \n",
       "258                                                1.04             \n",
       "2535                                                NaN             \n",
       "1747                                               0.00             \n",
       "2972                                               0.90             \n",
       "8161                                               0.00             \n",
       "6904                                                NaN             \n",
       "975                                                 NaN             \n",
       "\n",
       "      Nuclear electricity capacity million kilowatts  \\\n",
       "7547                                             0.0   \n",
       "1153                                             0.0   \n",
       "4157                                             0.0   \n",
       "258                                              0.0   \n",
       "2535                                             NaN   \n",
       "1747                                             0.0   \n",
       "2972                                             0.0   \n",
       "8161                                             0.0   \n",
       "6904                                             0.0   \n",
       "975                                              0.0   \n",
       "\n",
       "      Nuclear power generation billion kilowatthours  \\\n",
       "7547                                             0.0   \n",
       "1153                                             0.0   \n",
       "4157                                             0.0   \n",
       "258                                              0.0   \n",
       "2535                                             NaN   \n",
       "1747                                             0.0   \n",
       "2972                                             0.0   \n",
       "8161                                             0.0   \n",
       "6904                                             0.0   \n",
       "975                                              0.0   \n",
       "\n",
       "      Military spending in billion U.S. dollars  \\\n",
       "7547                                       6.10   \n",
       "1153                                        NaN   \n",
       "4157                                       0.02   \n",
       "258                                        0.40   \n",
       "2535                                       0.05   \n",
       "1747                                       0.07   \n",
       "2972                                       0.15   \n",
       "8161                                        NaN   \n",
       "6904                                       0.41   \n",
       "975                                         NaN   \n",
       "\n",
       "      Military spending percent of GDP  \\\n",
       "7547                              8.03   \n",
       "1153                               NaN   \n",
       "4157                              0.91   \n",
       "258                               4.52   \n",
       "2535                               NaN   \n",
       "1747                              1.45   \n",
       "2972                              2.73   \n",
       "8161                               NaN   \n",
       "6904                              3.30   \n",
       "975                                NaN   \n",
       "\n",
       "      Military spending percent of total government spending   \\\n",
       "7547                                              18.03         \n",
       "1153                                                NaN         \n",
       "4157                                               4.41         \n",
       "258                                               10.79         \n",
       "2535                                                NaN         \n",
       "1747                                               9.19         \n",
       "2972                                              14.90         \n",
       "8161                                                NaN         \n",
       "6904                                               8.81         \n",
       "975                                                 NaN         \n",
       "\n",
       "      Armed forces personnel  Human Development Index (0 - 1)  \n",
       "7547                 47000.0                            0.813  \n",
       "1153                     NaN                              NaN  \n",
       "4157                  3000.0                            0.627  \n",
       "258                 145500.0                            0.404  \n",
       "2535                     NaN                              NaN  \n",
       "1747                192000.0                            0.466  \n",
       "2972                 60000.0                            0.533  \n",
       "8161                     NaN                              NaN  \n",
       "6904                 16000.0                            0.645  \n",
       "975                      NaN                            0.619  \n",
       "\n",
       "[10 rows x 23 columns]"
      ]
     },
     "execution_count": 3,
     "metadata": {},
     "output_type": "execute_result"
    }
   ],
   "source": [
    "mass_data.sample(10)"
   ]
  },
  {
   "cell_type": "code",
   "execution_count": 4,
   "metadata": {},
   "outputs": [
    {
     "data": {
      "text/html": [
       "<div>\n",
       "<style scoped>\n",
       "    .dataframe tbody tr th:only-of-type {\n",
       "        vertical-align: middle;\n",
       "    }\n",
       "\n",
       "    .dataframe tbody tr th {\n",
       "        vertical-align: top;\n",
       "    }\n",
       "\n",
       "    .dataframe thead th {\n",
       "        text-align: right;\n",
       "    }\n",
       "</style>\n",
       "<table border=\"1\" class=\"dataframe\">\n",
       "  <thead>\n",
       "    <tr style=\"text-align: right;\">\n",
       "      <th></th>\n",
       "      <th>Year</th>\n",
       "      <th>Economic growth: the rate of change of real GDP</th>\n",
       "      <th>GDP per capita current U.S. dollars</th>\n",
       "      <th>GDP per capita Purchasing Power Parity</th>\n",
       "      <th>GDP per capita constant 2010 dollars</th>\n",
       "      <th>Trade openness: exports plus imports as percent of GDP</th>\n",
       "      <th>Government spending as percent of GDP</th>\n",
       "      <th>Government spending billion USD</th>\n",
       "      <th>Government debt as percent of GDP</th>\n",
       "      <th>Economic growth forecast</th>\n",
       "      <th>Oil production thousand barrels per day</th>\n",
       "      <th>Gasoline production thousand barrels per day</th>\n",
       "      <th>Liquefied petroleum gas production thousand barrels per day</th>\n",
       "      <th>Nuclear electricity capacity million kilowatts</th>\n",
       "      <th>Nuclear power generation billion kilowatthours</th>\n",
       "      <th>Military spending in billion U.S. dollars</th>\n",
       "      <th>Military spending percent of GDP</th>\n",
       "      <th>Military spending percent of total government spending</th>\n",
       "      <th>Armed forces personnel</th>\n",
       "      <th>Human Development Index (0 - 1)</th>\n",
       "    </tr>\n",
       "  </thead>\n",
       "  <tbody>\n",
       "    <tr>\n",
       "      <th>count</th>\n",
       "      <td>11157.000000</td>\n",
       "      <td>9603.000000</td>\n",
       "      <td>9959.000000</td>\n",
       "      <td>5911.000000</td>\n",
       "      <td>9619.000000</td>\n",
       "      <td>8285.000000</td>\n",
       "      <td>8100.000000</td>\n",
       "      <td>8178.000000</td>\n",
       "      <td>4961.000000</td>\n",
       "      <td>7593.000000</td>\n",
       "      <td>5327.000000</td>\n",
       "      <td>5496.000000</td>\n",
       "      <td>5496.000000</td>\n",
       "      <td>7631.000000</td>\n",
       "      <td>7631.000000</td>\n",
       "      <td>7829.000000</td>\n",
       "      <td>7512.000000</td>\n",
       "      <td>4247.000000</td>\n",
       "      <td>5.278000e+03</td>\n",
       "      <td>5594.000000</td>\n",
       "    </tr>\n",
       "    <tr>\n",
       "      <th>mean</th>\n",
       "      <td>1994.363090</td>\n",
       "      <td>3.724577</td>\n",
       "      <td>8987.942468</td>\n",
       "      <td>18297.364236</td>\n",
       "      <td>11598.141572</td>\n",
       "      <td>78.155067</td>\n",
       "      <td>15.821849</td>\n",
       "      <td>41.629101</td>\n",
       "      <td>55.546003</td>\n",
       "      <td>3.380615</td>\n",
       "      <td>550.501049</td>\n",
       "      <td>111.829896</td>\n",
       "      <td>16.480750</td>\n",
       "      <td>1.727853</td>\n",
       "      <td>11.411160</td>\n",
       "      <td>6.333228</td>\n",
       "      <td>2.714334</td>\n",
       "      <td>7.658834</td>\n",
       "      <td>1.669748e+05</td>\n",
       "      <td>0.660144</td>\n",
       "    </tr>\n",
       "    <tr>\n",
       "      <th>std</th>\n",
       "      <td>17.730054</td>\n",
       "      <td>6.309177</td>\n",
       "      <td>18178.200156</td>\n",
       "      <td>20650.061835</td>\n",
       "      <td>18933.300024</td>\n",
       "      <td>51.602307</td>\n",
       "      <td>6.714763</td>\n",
       "      <td>185.769018</td>\n",
       "      <td>44.088900</td>\n",
       "      <td>6.257111</td>\n",
       "      <td>1455.992217</td>\n",
       "      <td>631.421118</td>\n",
       "      <td>63.025122</td>\n",
       "      <td>8.962397</td>\n",
       "      <td>61.500703</td>\n",
       "      <td>39.384126</td>\n",
       "      <td>3.197292</td>\n",
       "      <td>6.497062</td>\n",
       "      <td>3.966437e+05</td>\n",
       "      <td>0.166521</td>\n",
       "    </tr>\n",
       "    <tr>\n",
       "      <th>min</th>\n",
       "      <td>1960.000000</td>\n",
       "      <td>-64.050000</td>\n",
       "      <td>11.790000</td>\n",
       "      <td>430.000000</td>\n",
       "      <td>122.880000</td>\n",
       "      <td>0.020000</td>\n",
       "      <td>0.000000</td>\n",
       "      <td>0.000000</td>\n",
       "      <td>0.000000</td>\n",
       "      <td>-54.340000</td>\n",
       "      <td>0.000000</td>\n",
       "      <td>0.000000</td>\n",
       "      <td>0.000000</td>\n",
       "      <td>0.000000</td>\n",
       "      <td>0.000000</td>\n",
       "      <td>0.000000</td>\n",
       "      <td>0.000000</td>\n",
       "      <td>0.220000</td>\n",
       "      <td>5.000000e+01</td>\n",
       "      <td>0.189000</td>\n",
       "    </tr>\n",
       "    <tr>\n",
       "      <th>25%</th>\n",
       "      <td>1980.000000</td>\n",
       "      <td>1.330000</td>\n",
       "      <td>578.220000</td>\n",
       "      <td>3626.000000</td>\n",
       "      <td>1312.925000</td>\n",
       "      <td>44.970000</td>\n",
       "      <td>11.130000</td>\n",
       "      <td>0.430000</td>\n",
       "      <td>28.570000</td>\n",
       "      <td>1.170000</td>\n",
       "      <td>0.000000</td>\n",
       "      <td>0.000000</td>\n",
       "      <td>0.000000</td>\n",
       "      <td>0.000000</td>\n",
       "      <td>0.000000</td>\n",
       "      <td>0.060000</td>\n",
       "      <td>1.190000</td>\n",
       "      <td>3.310000</td>\n",
       "      <td>1.145000e+04</td>\n",
       "      <td>0.535000</td>\n",
       "    </tr>\n",
       "    <tr>\n",
       "      <th>50%</th>\n",
       "      <td>1996.000000</td>\n",
       "      <td>3.830000</td>\n",
       "      <td>2044.320000</td>\n",
       "      <td>10402.000000</td>\n",
       "      <td>3637.420000</td>\n",
       "      <td>67.640000</td>\n",
       "      <td>15.150000</td>\n",
       "      <td>2.100000</td>\n",
       "      <td>47.600000</td>\n",
       "      <td>3.570000</td>\n",
       "      <td>16.000000</td>\n",
       "      <td>3.100000</td>\n",
       "      <td>0.300000</td>\n",
       "      <td>0.000000</td>\n",
       "      <td>0.000000</td>\n",
       "      <td>0.340000</td>\n",
       "      <td>1.890000</td>\n",
       "      <td>5.500000</td>\n",
       "      <td>3.725000e+04</td>\n",
       "      <td>0.685000</td>\n",
       "    </tr>\n",
       "    <tr>\n",
       "      <th>75%</th>\n",
       "      <td>2009.000000</td>\n",
       "      <td>6.310000</td>\n",
       "      <td>8302.130000</td>\n",
       "      <td>26662.000000</td>\n",
       "      <td>13591.355000</td>\n",
       "      <td>97.730000</td>\n",
       "      <td>19.250000</td>\n",
       "      <td>12.920000</td>\n",
       "      <td>69.760000</td>\n",
       "      <td>5.910000</td>\n",
       "      <td>287.235000</td>\n",
       "      <td>45.662500</td>\n",
       "      <td>7.475000</td>\n",
       "      <td>0.000000</td>\n",
       "      <td>0.000000</td>\n",
       "      <td>2.210000</td>\n",
       "      <td>3.150000</td>\n",
       "      <td>10.010000</td>\n",
       "      <td>1.475750e+05</td>\n",
       "      <td>0.791000</td>\n",
       "    </tr>\n",
       "    <tr>\n",
       "      <th>max</th>\n",
       "      <td>2023.000000</td>\n",
       "      <td>149.970000</td>\n",
       "      <td>240862.190000</td>\n",
       "      <td>157601.000000</td>\n",
       "      <td>228667.940000</td>\n",
       "      <td>442.620000</td>\n",
       "      <td>79.520000</td>\n",
       "      <td>3570.080000</td>\n",
       "      <td>600.120000</td>\n",
       "      <td>147.970000</td>\n",
       "      <td>12248.020000</td>\n",
       "      <td>9571.000000</td>\n",
       "      <td>776.520000</td>\n",
       "      <td>101.890000</td>\n",
       "      <td>809.410000</td>\n",
       "      <td>876.940000</td>\n",
       "      <td>117.350000</td>\n",
       "      <td>57.480000</td>\n",
       "      <td>4.135000e+06</td>\n",
       "      <td>0.962000</td>\n",
       "    </tr>\n",
       "  </tbody>\n",
       "</table>\n",
       "</div>"
      ],
      "text/plain": [
       "               Year  Economic growth: the rate of change of real GDP  \\\n",
       "count  11157.000000                                      9603.000000   \n",
       "mean    1994.363090                                         3.724577   \n",
       "std       17.730054                                         6.309177   \n",
       "min     1960.000000                                       -64.050000   \n",
       "25%     1980.000000                                         1.330000   \n",
       "50%     1996.000000                                         3.830000   \n",
       "75%     2009.000000                                         6.310000   \n",
       "max     2023.000000                                       149.970000   \n",
       "\n",
       "       GDP per capita current U.S. dollars  \\\n",
       "count                          9959.000000   \n",
       "mean                           8987.942468   \n",
       "std                           18178.200156   \n",
       "min                              11.790000   \n",
       "25%                             578.220000   \n",
       "50%                            2044.320000   \n",
       "75%                            8302.130000   \n",
       "max                          240862.190000   \n",
       "\n",
       "       GDP per capita Purchasing Power Parity  \\\n",
       "count                             5911.000000   \n",
       "mean                             18297.364236   \n",
       "std                              20650.061835   \n",
       "min                                430.000000   \n",
       "25%                               3626.000000   \n",
       "50%                              10402.000000   \n",
       "75%                              26662.000000   \n",
       "max                             157601.000000   \n",
       "\n",
       "       GDP per capita constant 2010 dollars  \\\n",
       "count                           9619.000000   \n",
       "mean                           11598.141572   \n",
       "std                            18933.300024   \n",
       "min                              122.880000   \n",
       "25%                             1312.925000   \n",
       "50%                             3637.420000   \n",
       "75%                            13591.355000   \n",
       "max                           228667.940000   \n",
       "\n",
       "       Trade openness: exports plus imports as percent of GDP  \\\n",
       "count                                        8285.000000        \n",
       "mean                                           78.155067        \n",
       "std                                            51.602307        \n",
       "min                                             0.020000        \n",
       "25%                                            44.970000        \n",
       "50%                                            67.640000        \n",
       "75%                                            97.730000        \n",
       "max                                           442.620000        \n",
       "\n",
       "       Government spending as percent of GDP  Government spending billion USD  \\\n",
       "count                            8100.000000                      8178.000000   \n",
       "mean                               15.821849                        41.629101   \n",
       "std                                 6.714763                       185.769018   \n",
       "min                                 0.000000                         0.000000   \n",
       "25%                                11.130000                         0.430000   \n",
       "50%                                15.150000                         2.100000   \n",
       "75%                                19.250000                        12.920000   \n",
       "max                                79.520000                      3570.080000   \n",
       "\n",
       "       Government debt as percent of GDP  Economic growth forecast  \\\n",
       "count                        4961.000000               7593.000000   \n",
       "mean                           55.546003                  3.380615   \n",
       "std                            44.088900                  6.257111   \n",
       "min                             0.000000                -54.340000   \n",
       "25%                            28.570000                  1.170000   \n",
       "50%                            47.600000                  3.570000   \n",
       "75%                            69.760000                  5.910000   \n",
       "max                           600.120000                147.970000   \n",
       "\n",
       "       Oil production thousand barrels per day  \\\n",
       "count                              5327.000000   \n",
       "mean                                550.501049   \n",
       "std                                1455.992217   \n",
       "min                                   0.000000   \n",
       "25%                                   0.000000   \n",
       "50%                                  16.000000   \n",
       "75%                                 287.235000   \n",
       "max                               12248.020000   \n",
       "\n",
       "       Gasoline production thousand barrels per day  \\\n",
       "count                                   5496.000000   \n",
       "mean                                     111.829896   \n",
       "std                                      631.421118   \n",
       "min                                        0.000000   \n",
       "25%                                        0.000000   \n",
       "50%                                        3.100000   \n",
       "75%                                       45.662500   \n",
       "max                                     9571.000000   \n",
       "\n",
       "       Liquefied petroleum gas production thousand barrels per day  \\\n",
       "count                                        5496.000000             \n",
       "mean                                           16.480750             \n",
       "std                                            63.025122             \n",
       "min                                             0.000000             \n",
       "25%                                             0.000000             \n",
       "50%                                             0.300000             \n",
       "75%                                             7.475000             \n",
       "max                                           776.520000             \n",
       "\n",
       "       Nuclear electricity capacity million kilowatts  \\\n",
       "count                                     7631.000000   \n",
       "mean                                         1.727853   \n",
       "std                                          8.962397   \n",
       "min                                          0.000000   \n",
       "25%                                          0.000000   \n",
       "50%                                          0.000000   \n",
       "75%                                          0.000000   \n",
       "max                                        101.890000   \n",
       "\n",
       "       Nuclear power generation billion kilowatthours  \\\n",
       "count                                     7631.000000   \n",
       "mean                                        11.411160   \n",
       "std                                         61.500703   \n",
       "min                                          0.000000   \n",
       "25%                                          0.000000   \n",
       "50%                                          0.000000   \n",
       "75%                                          0.000000   \n",
       "max                                        809.410000   \n",
       "\n",
       "       Military spending in billion U.S. dollars  \\\n",
       "count                                7829.000000   \n",
       "mean                                    6.333228   \n",
       "std                                    39.384126   \n",
       "min                                     0.000000   \n",
       "25%                                     0.060000   \n",
       "50%                                     0.340000   \n",
       "75%                                     2.210000   \n",
       "max                                   876.940000   \n",
       "\n",
       "       Military spending percent of GDP  \\\n",
       "count                       7512.000000   \n",
       "mean                           2.714334   \n",
       "std                            3.197292   \n",
       "min                            0.000000   \n",
       "25%                            1.190000   \n",
       "50%                            1.890000   \n",
       "75%                            3.150000   \n",
       "max                          117.350000   \n",
       "\n",
       "       Military spending percent of total government spending   \\\n",
       "count                                        4247.000000         \n",
       "mean                                            7.658834         \n",
       "std                                             6.497062         \n",
       "min                                             0.220000         \n",
       "25%                                             3.310000         \n",
       "50%                                             5.500000         \n",
       "75%                                            10.010000         \n",
       "max                                            57.480000         \n",
       "\n",
       "       Armed forces personnel  Human Development Index (0 - 1)  \n",
       "count            5.278000e+03                      5594.000000  \n",
       "mean             1.669748e+05                         0.660144  \n",
       "std              3.966437e+05                         0.166521  \n",
       "min              5.000000e+01                         0.189000  \n",
       "25%              1.145000e+04                         0.535000  \n",
       "50%              3.725000e+04                         0.685000  \n",
       "75%              1.475750e+05                         0.791000  \n",
       "max              4.135000e+06                         0.962000  "
      ]
     },
     "execution_count": 4,
     "metadata": {},
     "output_type": "execute_result"
    }
   ],
   "source": [
    "mass_data.describe()"
   ]
  },
  {
   "cell_type": "code",
   "execution_count": 5,
   "metadata": {},
   "outputs": [
    {
     "name": "stdout",
     "output_type": "stream",
     "text": [
      "        Country Code ContinentCode  Year  \\\n",
      "85      Albania  ALB            EU  1997   \n",
      "86      Albania  ALB            EU  1998   \n",
      "87      Albania  ALB            EU  1999   \n",
      "88      Albania  ALB            EU  2000   \n",
      "89      Albania  ALB            EU  2001   \n",
      "...         ...  ...           ...   ...   \n",
      "11143  Zimbabwe  ZWE            AF  2010   \n",
      "11144  Zimbabwe  ZWE            AF  2011   \n",
      "11145  Zimbabwe  ZWE            AF  2012   \n",
      "11146  Zimbabwe  ZWE            AF  2013   \n",
      "11147  Zimbabwe  ZWE            AF  2014   \n",
      "\n",
      "       Economic growth: the rate of change of real GDP  \\\n",
      "85                                              -10.92   \n",
      "86                                                8.83   \n",
      "87                                               12.89   \n",
      "88                                                6.95   \n",
      "89                                                8.29   \n",
      "...                                                ...   \n",
      "11143                                            21.45   \n",
      "11144                                            14.62   \n",
      "11145                                            15.74   \n",
      "11146                                             3.20   \n",
      "11147                                             1.48   \n",
      "\n",
      "       GDP per capita current U.S. dollars  \\\n",
      "85                                  717.38   \n",
      "86                                  813.79   \n",
      "87                                 1033.24   \n",
      "88                                 1126.68   \n",
      "89                                 1281.66   \n",
      "...                                    ...   \n",
      "11143                               937.84   \n",
      "11144                              1082.62   \n",
      "11145                              1290.19   \n",
      "11146                              1408.37   \n",
      "11147                              1407.03   \n",
      "\n",
      "       GDP per capita Purchasing Power Parity  \\\n",
      "85                                     4400.0   \n",
      "86                                     4819.0   \n",
      "87                                     5475.0   \n",
      "88                                     5893.0   \n",
      "89                                     6441.0   \n",
      "...                                       ...   \n",
      "11143                                  1800.0   \n",
      "11144                                  2033.0   \n",
      "11145                                  2311.0   \n",
      "11146                                  2334.0   \n",
      "11147                                  2317.0   \n",
      "\n",
      "       GDP per capita constant 2010 dollars  \\\n",
      "85                                  1464.30   \n",
      "86                                  1603.65   \n",
      "87                                  1821.87   \n",
      "88                                  1960.88   \n",
      "89                                  2143.53   \n",
      "...                                     ...   \n",
      "11143                               1096.84   \n",
      "11144                               1239.24   \n",
      "11145                               1408.46   \n",
      "11146                               1422.38   \n",
      "11147                               1412.20   \n",
      "\n",
      "       Trade openness: exports plus imports as percent of GDP  \\\n",
      "85                                                 45.43        \n",
      "86                                                 48.14        \n",
      "87                                                 51.01        \n",
      "88                                                 63.45        \n",
      "89                                                 66.49        \n",
      "...                                                  ...        \n",
      "11143                                              83.12        \n",
      "11144                                              89.47        \n",
      "11145                                              74.16        \n",
      "11146                                              58.66        \n",
      "11147                                              54.67        \n",
      "\n",
      "       Government spending as percent of GDP  ...  \\\n",
      "85                                     10.45  ...   \n",
      "86                                     10.84  ...   \n",
      "87                                     11.06  ...   \n",
      "88                                      9.69  ...   \n",
      "89                                     10.63  ...   \n",
      "...                                      ...  ...   \n",
      "11143                                  15.32  ...   \n",
      "11144                                  18.77  ...   \n",
      "11145                                  20.01  ...   \n",
      "11146                                  18.44  ...   \n",
      "11147                                  19.56  ...   \n",
      "\n",
      "       Oil production thousand barrels per day  \\\n",
      "85                                         6.0   \n",
      "86                                         6.0   \n",
      "87                                         5.0   \n",
      "88                                         5.0   \n",
      "89                                         5.0   \n",
      "...                                        ...   \n",
      "11143                                      0.0   \n",
      "11144                                      0.0   \n",
      "11145                                      0.0   \n",
      "11146                                      0.0   \n",
      "11147                                      0.0   \n",
      "\n",
      "       Gasoline production thousand barrels per day  \\\n",
      "85                                             1.70   \n",
      "86                                             1.70   \n",
      "87                                             0.60   \n",
      "88                                             0.84   \n",
      "89                                             0.82   \n",
      "...                                             ...   \n",
      "11143                                          0.00   \n",
      "11144                                          0.00   \n",
      "11145                                          0.00   \n",
      "11146                                          0.00   \n",
      "11147                                          0.00   \n",
      "\n",
      "       Liquefied petroleum gas production thousand barrels per day  \\\n",
      "85                                                  0.01             \n",
      "86                                                  0.01             \n",
      "87                                                  0.01             \n",
      "88                                                  0.04             \n",
      "89                                                  0.04             \n",
      "...                                                  ...             \n",
      "11143                                               0.00             \n",
      "11144                                               0.00             \n",
      "11145                                               0.00             \n",
      "11146                                               0.00             \n",
      "11147                                               0.00             \n",
      "\n",
      "       Nuclear electricity capacity million kilowatts  \\\n",
      "85                                                0.0   \n",
      "86                                                0.0   \n",
      "87                                                0.0   \n",
      "88                                                0.0   \n",
      "89                                                0.0   \n",
      "...                                               ...   \n",
      "11143                                             0.0   \n",
      "11144                                             0.0   \n",
      "11145                                             0.0   \n",
      "11146                                             0.0   \n",
      "11147                                             0.0   \n",
      "\n",
      "       Nuclear power generation billion kilowatthours  \\\n",
      "85                                                0.0   \n",
      "86                                                0.0   \n",
      "87                                                0.0   \n",
      "88                                                0.0   \n",
      "89                                                0.0   \n",
      "...                                               ...   \n",
      "11143                                             0.0   \n",
      "11144                                             0.0   \n",
      "11145                                             0.0   \n",
      "11146                                             0.0   \n",
      "11147                                             0.0   \n",
      "\n",
      "       Military spending in billion U.S. dollars  \\\n",
      "85                                          0.03   \n",
      "86                                          0.03   \n",
      "87                                          0.04   \n",
      "88                                          0.05   \n",
      "89                                          0.05   \n",
      "...                                          ...   \n",
      "11143                                       0.10   \n",
      "11144                                       0.20   \n",
      "11145                                       0.32   \n",
      "11146                                       0.36   \n",
      "11147                                       0.37   \n",
      "\n",
      "       Military spending percent of GDP  \\\n",
      "85                                 1.28   \n",
      "86                                 1.24   \n",
      "87                                 1.25   \n",
      "88                                 1.25   \n",
      "89                                 1.31   \n",
      "...                                 ...   \n",
      "11143                              0.82   \n",
      "11144                              1.41   \n",
      "11145                              1.86   \n",
      "11146                              1.87   \n",
      "11147                              1.89   \n",
      "\n",
      "       Military spending percent of total government spending   \\\n",
      "85                                                  4.42         \n",
      "86                                                  3.58         \n",
      "87                                                  3.58         \n",
      "88                                                  3.84         \n",
      "89                                                  4.15         \n",
      "...                                                  ...         \n",
      "11143                                               4.51         \n",
      "11144                                               6.06         \n",
      "11145                                               9.11         \n",
      "11146                                               8.93         \n",
      "11147                                               9.23         \n",
      "\n",
      "       Armed forces personnel  Human Development Index (0 - 1)  \n",
      "85                    67500.0                            0.639  \n",
      "86                    67500.0                            0.649  \n",
      "87                    67500.0                            0.660  \n",
      "88                    67500.0                            0.667  \n",
      "89                    40500.0                            0.673  \n",
      "...                       ...                              ...  \n",
      "11143                 50800.0                            0.472  \n",
      "11144                 50800.0                            0.490  \n",
      "11145                 50800.0                            0.516  \n",
      "11146                 50800.0                            0.527  \n",
      "11147                 50800.0                            0.537  \n",
      "\n",
      "[1705 rows x 23 columns]\n"
     ]
    }
   ],
   "source": [
    "dropped_rows_df = mass_data.dropna()\n",
    "print(dropped_rows_df)"
   ]
  },
  {
   "cell_type": "code",
   "execution_count": 6,
   "metadata": {},
   "outputs": [
    {
     "name": "stdout",
     "output_type": "stream",
     "text": [
      "        Country Code ContinentCode  Year  \\\n",
      "85      Albania  ALB            EU  1997   \n",
      "86      Albania  ALB            EU  1998   \n",
      "87      Albania  ALB            EU  1999   \n",
      "88      Albania  ALB            EU  2000   \n",
      "89      Albania  ALB            EU  2001   \n",
      "...         ...  ...           ...   ...   \n",
      "11143  Zimbabwe  ZWE            AF  2010   \n",
      "11144  Zimbabwe  ZWE            AF  2011   \n",
      "11145  Zimbabwe  ZWE            AF  2012   \n",
      "11146  Zimbabwe  ZWE            AF  2013   \n",
      "11147  Zimbabwe  ZWE            AF  2014   \n",
      "\n",
      "       Economic growth: the rate of change of real GDP  \\\n",
      "85                                              -10.92   \n",
      "86                                                8.83   \n",
      "87                                               12.89   \n",
      "88                                                6.95   \n",
      "89                                                8.29   \n",
      "...                                                ...   \n",
      "11143                                            21.45   \n",
      "11144                                            14.62   \n",
      "11145                                            15.74   \n",
      "11146                                             3.20   \n",
      "11147                                             1.48   \n",
      "\n",
      "       GDP per capita current U.S. dollars  \\\n",
      "85                                  717.38   \n",
      "86                                  813.79   \n",
      "87                                 1033.24   \n",
      "88                                 1126.68   \n",
      "89                                 1281.66   \n",
      "...                                    ...   \n",
      "11143                               937.84   \n",
      "11144                              1082.62   \n",
      "11145                              1290.19   \n",
      "11146                              1408.37   \n",
      "11147                              1407.03   \n",
      "\n",
      "       GDP per capita Purchasing Power Parity  \\\n",
      "85                                     4400.0   \n",
      "86                                     4819.0   \n",
      "87                                     5475.0   \n",
      "88                                     5893.0   \n",
      "89                                     6441.0   \n",
      "...                                       ...   \n",
      "11143                                  1800.0   \n",
      "11144                                  2033.0   \n",
      "11145                                  2311.0   \n",
      "11146                                  2334.0   \n",
      "11147                                  2317.0   \n",
      "\n",
      "       GDP per capita constant 2010 dollars  \\\n",
      "85                                  1464.30   \n",
      "86                                  1603.65   \n",
      "87                                  1821.87   \n",
      "88                                  1960.88   \n",
      "89                                  2143.53   \n",
      "...                                     ...   \n",
      "11143                               1096.84   \n",
      "11144                               1239.24   \n",
      "11145                               1408.46   \n",
      "11146                               1422.38   \n",
      "11147                               1412.20   \n",
      "\n",
      "       Trade openness: exports plus imports as percent of GDP  \\\n",
      "85                                                 45.43        \n",
      "86                                                 48.14        \n",
      "87                                                 51.01        \n",
      "88                                                 63.45        \n",
      "89                                                 66.49        \n",
      "...                                                  ...        \n",
      "11143                                              83.12        \n",
      "11144                                              89.47        \n",
      "11145                                              74.16        \n",
      "11146                                              58.66        \n",
      "11147                                              54.67        \n",
      "\n",
      "       Government spending as percent of GDP  ...  \\\n",
      "85                                     10.45  ...   \n",
      "86                                     10.84  ...   \n",
      "87                                     11.06  ...   \n",
      "88                                      9.69  ...   \n",
      "89                                     10.63  ...   \n",
      "...                                      ...  ...   \n",
      "11143                                  15.32  ...   \n",
      "11144                                  18.77  ...   \n",
      "11145                                  20.01  ...   \n",
      "11146                                  18.44  ...   \n",
      "11147                                  19.56  ...   \n",
      "\n",
      "       Oil production thousand barrels per day  \\\n",
      "85                                         6.0   \n",
      "86                                         6.0   \n",
      "87                                         5.0   \n",
      "88                                         5.0   \n",
      "89                                         5.0   \n",
      "...                                        ...   \n",
      "11143                                      0.0   \n",
      "11144                                      0.0   \n",
      "11145                                      0.0   \n",
      "11146                                      0.0   \n",
      "11147                                      0.0   \n",
      "\n",
      "       Gasoline production thousand barrels per day  \\\n",
      "85                                             1.70   \n",
      "86                                             1.70   \n",
      "87                                             0.60   \n",
      "88                                             0.84   \n",
      "89                                             0.82   \n",
      "...                                             ...   \n",
      "11143                                          0.00   \n",
      "11144                                          0.00   \n",
      "11145                                          0.00   \n",
      "11146                                          0.00   \n",
      "11147                                          0.00   \n",
      "\n",
      "       Liquefied petroleum gas production thousand barrels per day  \\\n",
      "85                                                  0.01             \n",
      "86                                                  0.01             \n",
      "87                                                  0.01             \n",
      "88                                                  0.04             \n",
      "89                                                  0.04             \n",
      "...                                                  ...             \n",
      "11143                                               0.00             \n",
      "11144                                               0.00             \n",
      "11145                                               0.00             \n",
      "11146                                               0.00             \n",
      "11147                                               0.00             \n",
      "\n",
      "       Nuclear electricity capacity million kilowatts  \\\n",
      "85                                                0.0   \n",
      "86                                                0.0   \n",
      "87                                                0.0   \n",
      "88                                                0.0   \n",
      "89                                                0.0   \n",
      "...                                               ...   \n",
      "11143                                             0.0   \n",
      "11144                                             0.0   \n",
      "11145                                             0.0   \n",
      "11146                                             0.0   \n",
      "11147                                             0.0   \n",
      "\n",
      "       Nuclear power generation billion kilowatthours  \\\n",
      "85                                                0.0   \n",
      "86                                                0.0   \n",
      "87                                                0.0   \n",
      "88                                                0.0   \n",
      "89                                                0.0   \n",
      "...                                               ...   \n",
      "11143                                             0.0   \n",
      "11144                                             0.0   \n",
      "11145                                             0.0   \n",
      "11146                                             0.0   \n",
      "11147                                             0.0   \n",
      "\n",
      "       Military spending in billion U.S. dollars  \\\n",
      "85                                          0.03   \n",
      "86                                          0.03   \n",
      "87                                          0.04   \n",
      "88                                          0.05   \n",
      "89                                          0.05   \n",
      "...                                          ...   \n",
      "11143                                       0.10   \n",
      "11144                                       0.20   \n",
      "11145                                       0.32   \n",
      "11146                                       0.36   \n",
      "11147                                       0.37   \n",
      "\n",
      "       Military spending percent of GDP  \\\n",
      "85                                 1.28   \n",
      "86                                 1.24   \n",
      "87                                 1.25   \n",
      "88                                 1.25   \n",
      "89                                 1.31   \n",
      "...                                 ...   \n",
      "11143                              0.82   \n",
      "11144                              1.41   \n",
      "11145                              1.86   \n",
      "11146                              1.87   \n",
      "11147                              1.89   \n",
      "\n",
      "       Military spending percent of total government spending   \\\n",
      "85                                                  4.42         \n",
      "86                                                  3.58         \n",
      "87                                                  3.58         \n",
      "88                                                  3.84         \n",
      "89                                                  4.15         \n",
      "...                                                  ...         \n",
      "11143                                               4.51         \n",
      "11144                                               6.06         \n",
      "11145                                               9.11         \n",
      "11146                                               8.93         \n",
      "11147                                               9.23         \n",
      "\n",
      "       Armed forces personnel  Human Development Index (0 - 1)  \n",
      "85                    67500.0                            0.639  \n",
      "86                    67500.0                            0.649  \n",
      "87                    67500.0                            0.660  \n",
      "88                    67500.0                            0.667  \n",
      "89                    40500.0                            0.673  \n",
      "...                       ...                              ...  \n",
      "11143                 50800.0                            0.472  \n",
      "11144                 50800.0                            0.490  \n",
      "11145                 50800.0                            0.516  \n",
      "11146                 50800.0                            0.527  \n",
      "11147                 50800.0                            0.537  \n",
      "\n",
      "[1705 rows x 23 columns]\n"
     ]
    }
   ],
   "source": [
    "dropped_cols_df = mass_data.dropna()\n",
    "print(dropped_cols_df)"
   ]
  },
  {
   "cell_type": "code",
   "execution_count": 7,
   "metadata": {},
   "outputs": [
    {
     "data": {
      "text/html": [
       "<div>\n",
       "<style scoped>\n",
       "    .dataframe tbody tr th:only-of-type {\n",
       "        vertical-align: middle;\n",
       "    }\n",
       "\n",
       "    .dataframe tbody tr th {\n",
       "        vertical-align: top;\n",
       "    }\n",
       "\n",
       "    .dataframe thead th {\n",
       "        text-align: right;\n",
       "    }\n",
       "</style>\n",
       "<table border=\"1\" class=\"dataframe\">\n",
       "  <thead>\n",
       "    <tr style=\"text-align: right;\">\n",
       "      <th></th>\n",
       "      <th>Country</th>\n",
       "      <th>Code</th>\n",
       "      <th>ContinentCode</th>\n",
       "      <th>Year</th>\n",
       "      <th>Economic growth: the rate of change of real GDP</th>\n",
       "      <th>GDP per capita current U.S. dollars</th>\n",
       "      <th>GDP per capita Purchasing Power Parity</th>\n",
       "      <th>GDP per capita constant 2010 dollars</th>\n",
       "      <th>Trade openness: exports plus imports as percent of GDP</th>\n",
       "      <th>Government spending as percent of GDP</th>\n",
       "      <th>...</th>\n",
       "      <th>Oil production thousand barrels per day</th>\n",
       "      <th>Gasoline production thousand barrels per day</th>\n",
       "      <th>Liquefied petroleum gas production thousand barrels per day</th>\n",
       "      <th>Nuclear electricity capacity million kilowatts</th>\n",
       "      <th>Nuclear power generation billion kilowatthours</th>\n",
       "      <th>Military spending in billion U.S. dollars</th>\n",
       "      <th>Military spending percent of GDP</th>\n",
       "      <th>Military spending percent of total government spending</th>\n",
       "      <th>Armed forces personnel</th>\n",
       "      <th>Human Development Index (0 - 1)</th>\n",
       "    </tr>\n",
       "  </thead>\n",
       "  <tbody>\n",
       "    <tr>\n",
       "      <th>0</th>\n",
       "      <td>Afghanistan</td>\n",
       "      <td>AFG</td>\n",
       "      <td>AS</td>\n",
       "      <td>1960</td>\n",
       "      <td>NaN</td>\n",
       "      <td>62.37</td>\n",
       "      <td>NaN</td>\n",
       "      <td>NaN</td>\n",
       "      <td>11.16</td>\n",
       "      <td>NaN</td>\n",
       "      <td>...</td>\n",
       "      <td>NaN</td>\n",
       "      <td>NaN</td>\n",
       "      <td>NaN</td>\n",
       "      <td>NaN</td>\n",
       "      <td>NaN</td>\n",
       "      <td>NaN</td>\n",
       "      <td>NaN</td>\n",
       "      <td>NaN</td>\n",
       "      <td>NaN</td>\n",
       "      <td>NaN</td>\n",
       "    </tr>\n",
       "    <tr>\n",
       "      <th>1</th>\n",
       "      <td>Afghanistan</td>\n",
       "      <td>AFG</td>\n",
       "      <td>AS</td>\n",
       "      <td>1961</td>\n",
       "      <td>NaN</td>\n",
       "      <td>62.44</td>\n",
       "      <td>NaN</td>\n",
       "      <td>NaN</td>\n",
       "      <td>12.55</td>\n",
       "      <td>NaN</td>\n",
       "      <td>...</td>\n",
       "      <td>NaN</td>\n",
       "      <td>NaN</td>\n",
       "      <td>NaN</td>\n",
       "      <td>NaN</td>\n",
       "      <td>NaN</td>\n",
       "      <td>NaN</td>\n",
       "      <td>NaN</td>\n",
       "      <td>NaN</td>\n",
       "      <td>NaN</td>\n",
       "      <td>NaN</td>\n",
       "    </tr>\n",
       "    <tr>\n",
       "      <th>2</th>\n",
       "      <td>Afghanistan</td>\n",
       "      <td>AFG</td>\n",
       "      <td>AS</td>\n",
       "      <td>1962</td>\n",
       "      <td>NaN</td>\n",
       "      <td>60.95</td>\n",
       "      <td>NaN</td>\n",
       "      <td>NaN</td>\n",
       "      <td>14.23</td>\n",
       "      <td>NaN</td>\n",
       "      <td>...</td>\n",
       "      <td>NaN</td>\n",
       "      <td>NaN</td>\n",
       "      <td>NaN</td>\n",
       "      <td>NaN</td>\n",
       "      <td>NaN</td>\n",
       "      <td>NaN</td>\n",
       "      <td>NaN</td>\n",
       "      <td>NaN</td>\n",
       "      <td>NaN</td>\n",
       "      <td>NaN</td>\n",
       "    </tr>\n",
       "    <tr>\n",
       "      <th>3</th>\n",
       "      <td>Afghanistan</td>\n",
       "      <td>AFG</td>\n",
       "      <td>AS</td>\n",
       "      <td>1963</td>\n",
       "      <td>NaN</td>\n",
       "      <td>82.02</td>\n",
       "      <td>NaN</td>\n",
       "      <td>NaN</td>\n",
       "      <td>26.04</td>\n",
       "      <td>NaN</td>\n",
       "      <td>...</td>\n",
       "      <td>NaN</td>\n",
       "      <td>NaN</td>\n",
       "      <td>NaN</td>\n",
       "      <td>NaN</td>\n",
       "      <td>NaN</td>\n",
       "      <td>NaN</td>\n",
       "      <td>NaN</td>\n",
       "      <td>NaN</td>\n",
       "      <td>NaN</td>\n",
       "      <td>NaN</td>\n",
       "    </tr>\n",
       "    <tr>\n",
       "      <th>4</th>\n",
       "      <td>Afghanistan</td>\n",
       "      <td>AFG</td>\n",
       "      <td>AS</td>\n",
       "      <td>1964</td>\n",
       "      <td>NaN</td>\n",
       "      <td>85.51</td>\n",
       "      <td>NaN</td>\n",
       "      <td>NaN</td>\n",
       "      <td>26.94</td>\n",
       "      <td>NaN</td>\n",
       "      <td>...</td>\n",
       "      <td>NaN</td>\n",
       "      <td>NaN</td>\n",
       "      <td>NaN</td>\n",
       "      <td>NaN</td>\n",
       "      <td>NaN</td>\n",
       "      <td>NaN</td>\n",
       "      <td>NaN</td>\n",
       "      <td>NaN</td>\n",
       "      <td>NaN</td>\n",
       "      <td>NaN</td>\n",
       "    </tr>\n",
       "    <tr>\n",
       "      <th>5</th>\n",
       "      <td>Afghanistan</td>\n",
       "      <td>AFG</td>\n",
       "      <td>AS</td>\n",
       "      <td>1965</td>\n",
       "      <td>NaN</td>\n",
       "      <td>105.24</td>\n",
       "      <td>NaN</td>\n",
       "      <td>NaN</td>\n",
       "      <td>32.67</td>\n",
       "      <td>NaN</td>\n",
       "      <td>...</td>\n",
       "      <td>NaN</td>\n",
       "      <td>NaN</td>\n",
       "      <td>NaN</td>\n",
       "      <td>NaN</td>\n",
       "      <td>NaN</td>\n",
       "      <td>NaN</td>\n",
       "      <td>NaN</td>\n",
       "      <td>NaN</td>\n",
       "      <td>NaN</td>\n",
       "      <td>NaN</td>\n",
       "    </tr>\n",
       "    <tr>\n",
       "      <th>6</th>\n",
       "      <td>Afghanistan</td>\n",
       "      <td>AFG</td>\n",
       "      <td>AS</td>\n",
       "      <td>1966</td>\n",
       "      <td>NaN</td>\n",
       "      <td>143.10</td>\n",
       "      <td>NaN</td>\n",
       "      <td>NaN</td>\n",
       "      <td>27.14</td>\n",
       "      <td>NaN</td>\n",
       "      <td>...</td>\n",
       "      <td>NaN</td>\n",
       "      <td>NaN</td>\n",
       "      <td>NaN</td>\n",
       "      <td>NaN</td>\n",
       "      <td>NaN</td>\n",
       "      <td>NaN</td>\n",
       "      <td>NaN</td>\n",
       "      <td>NaN</td>\n",
       "      <td>NaN</td>\n",
       "      <td>NaN</td>\n",
       "    </tr>\n",
       "    <tr>\n",
       "      <th>7</th>\n",
       "      <td>Afghanistan</td>\n",
       "      <td>AFG</td>\n",
       "      <td>AS</td>\n",
       "      <td>1967</td>\n",
       "      <td>NaN</td>\n",
       "      <td>167.17</td>\n",
       "      <td>NaN</td>\n",
       "      <td>NaN</td>\n",
       "      <td>20.98</td>\n",
       "      <td>NaN</td>\n",
       "      <td>...</td>\n",
       "      <td>NaN</td>\n",
       "      <td>NaN</td>\n",
       "      <td>NaN</td>\n",
       "      <td>NaN</td>\n",
       "      <td>NaN</td>\n",
       "      <td>NaN</td>\n",
       "      <td>NaN</td>\n",
       "      <td>NaN</td>\n",
       "      <td>NaN</td>\n",
       "      <td>NaN</td>\n",
       "    </tr>\n",
       "    <tr>\n",
       "      <th>8</th>\n",
       "      <td>Afghanistan</td>\n",
       "      <td>AFG</td>\n",
       "      <td>AS</td>\n",
       "      <td>1968</td>\n",
       "      <td>NaN</td>\n",
       "      <td>134.01</td>\n",
       "      <td>NaN</td>\n",
       "      <td>NaN</td>\n",
       "      <td>24.11</td>\n",
       "      <td>NaN</td>\n",
       "      <td>...</td>\n",
       "      <td>NaN</td>\n",
       "      <td>NaN</td>\n",
       "      <td>NaN</td>\n",
       "      <td>NaN</td>\n",
       "      <td>NaN</td>\n",
       "      <td>NaN</td>\n",
       "      <td>NaN</td>\n",
       "      <td>NaN</td>\n",
       "      <td>NaN</td>\n",
       "      <td>NaN</td>\n",
       "    </tr>\n",
       "    <tr>\n",
       "      <th>9</th>\n",
       "      <td>Afghanistan</td>\n",
       "      <td>AFG</td>\n",
       "      <td>AS</td>\n",
       "      <td>1969</td>\n",
       "      <td>NaN</td>\n",
       "      <td>134.25</td>\n",
       "      <td>NaN</td>\n",
       "      <td>NaN</td>\n",
       "      <td>25.08</td>\n",
       "      <td>NaN</td>\n",
       "      <td>...</td>\n",
       "      <td>NaN</td>\n",
       "      <td>NaN</td>\n",
       "      <td>NaN</td>\n",
       "      <td>NaN</td>\n",
       "      <td>NaN</td>\n",
       "      <td>NaN</td>\n",
       "      <td>NaN</td>\n",
       "      <td>NaN</td>\n",
       "      <td>NaN</td>\n",
       "      <td>NaN</td>\n",
       "    </tr>\n",
       "  </tbody>\n",
       "</table>\n",
       "<p>10 rows × 23 columns</p>\n",
       "</div>"
      ],
      "text/plain": [
       "       Country Code ContinentCode  Year  \\\n",
       "0  Afghanistan  AFG            AS  1960   \n",
       "1  Afghanistan  AFG            AS  1961   \n",
       "2  Afghanistan  AFG            AS  1962   \n",
       "3  Afghanistan  AFG            AS  1963   \n",
       "4  Afghanistan  AFG            AS  1964   \n",
       "5  Afghanistan  AFG            AS  1965   \n",
       "6  Afghanistan  AFG            AS  1966   \n",
       "7  Afghanistan  AFG            AS  1967   \n",
       "8  Afghanistan  AFG            AS  1968   \n",
       "9  Afghanistan  AFG            AS  1969   \n",
       "\n",
       "   Economic growth: the rate of change of real GDP  \\\n",
       "0                                              NaN   \n",
       "1                                              NaN   \n",
       "2                                              NaN   \n",
       "3                                              NaN   \n",
       "4                                              NaN   \n",
       "5                                              NaN   \n",
       "6                                              NaN   \n",
       "7                                              NaN   \n",
       "8                                              NaN   \n",
       "9                                              NaN   \n",
       "\n",
       "   GDP per capita current U.S. dollars  \\\n",
       "0                                62.37   \n",
       "1                                62.44   \n",
       "2                                60.95   \n",
       "3                                82.02   \n",
       "4                                85.51   \n",
       "5                               105.24   \n",
       "6                               143.10   \n",
       "7                               167.17   \n",
       "8                               134.01   \n",
       "9                               134.25   \n",
       "\n",
       "   GDP per capita Purchasing Power Parity  \\\n",
       "0                                     NaN   \n",
       "1                                     NaN   \n",
       "2                                     NaN   \n",
       "3                                     NaN   \n",
       "4                                     NaN   \n",
       "5                                     NaN   \n",
       "6                                     NaN   \n",
       "7                                     NaN   \n",
       "8                                     NaN   \n",
       "9                                     NaN   \n",
       "\n",
       "   GDP per capita constant 2010 dollars  \\\n",
       "0                                   NaN   \n",
       "1                                   NaN   \n",
       "2                                   NaN   \n",
       "3                                   NaN   \n",
       "4                                   NaN   \n",
       "5                                   NaN   \n",
       "6                                   NaN   \n",
       "7                                   NaN   \n",
       "8                                   NaN   \n",
       "9                                   NaN   \n",
       "\n",
       "   Trade openness: exports plus imports as percent of GDP  \\\n",
       "0                                              11.16        \n",
       "1                                              12.55        \n",
       "2                                              14.23        \n",
       "3                                              26.04        \n",
       "4                                              26.94        \n",
       "5                                              32.67        \n",
       "6                                              27.14        \n",
       "7                                              20.98        \n",
       "8                                              24.11        \n",
       "9                                              25.08        \n",
       "\n",
       "   Government spending as percent of GDP  ...  \\\n",
       "0                                    NaN  ...   \n",
       "1                                    NaN  ...   \n",
       "2                                    NaN  ...   \n",
       "3                                    NaN  ...   \n",
       "4                                    NaN  ...   \n",
       "5                                    NaN  ...   \n",
       "6                                    NaN  ...   \n",
       "7                                    NaN  ...   \n",
       "8                                    NaN  ...   \n",
       "9                                    NaN  ...   \n",
       "\n",
       "   Oil production thousand barrels per day  \\\n",
       "0                                      NaN   \n",
       "1                                      NaN   \n",
       "2                                      NaN   \n",
       "3                                      NaN   \n",
       "4                                      NaN   \n",
       "5                                      NaN   \n",
       "6                                      NaN   \n",
       "7                                      NaN   \n",
       "8                                      NaN   \n",
       "9                                      NaN   \n",
       "\n",
       "   Gasoline production thousand barrels per day  \\\n",
       "0                                           NaN   \n",
       "1                                           NaN   \n",
       "2                                           NaN   \n",
       "3                                           NaN   \n",
       "4                                           NaN   \n",
       "5                                           NaN   \n",
       "6                                           NaN   \n",
       "7                                           NaN   \n",
       "8                                           NaN   \n",
       "9                                           NaN   \n",
       "\n",
       "   Liquefied petroleum gas production thousand barrels per day  \\\n",
       "0                                                NaN             \n",
       "1                                                NaN             \n",
       "2                                                NaN             \n",
       "3                                                NaN             \n",
       "4                                                NaN             \n",
       "5                                                NaN             \n",
       "6                                                NaN             \n",
       "7                                                NaN             \n",
       "8                                                NaN             \n",
       "9                                                NaN             \n",
       "\n",
       "   Nuclear electricity capacity million kilowatts  \\\n",
       "0                                             NaN   \n",
       "1                                             NaN   \n",
       "2                                             NaN   \n",
       "3                                             NaN   \n",
       "4                                             NaN   \n",
       "5                                             NaN   \n",
       "6                                             NaN   \n",
       "7                                             NaN   \n",
       "8                                             NaN   \n",
       "9                                             NaN   \n",
       "\n",
       "   Nuclear power generation billion kilowatthours  \\\n",
       "0                                             NaN   \n",
       "1                                             NaN   \n",
       "2                                             NaN   \n",
       "3                                             NaN   \n",
       "4                                             NaN   \n",
       "5                                             NaN   \n",
       "6                                             NaN   \n",
       "7                                             NaN   \n",
       "8                                             NaN   \n",
       "9                                             NaN   \n",
       "\n",
       "   Military spending in billion U.S. dollars  \\\n",
       "0                                        NaN   \n",
       "1                                        NaN   \n",
       "2                                        NaN   \n",
       "3                                        NaN   \n",
       "4                                        NaN   \n",
       "5                                        NaN   \n",
       "6                                        NaN   \n",
       "7                                        NaN   \n",
       "8                                        NaN   \n",
       "9                                        NaN   \n",
       "\n",
       "   Military spending percent of GDP  \\\n",
       "0                               NaN   \n",
       "1                               NaN   \n",
       "2                               NaN   \n",
       "3                               NaN   \n",
       "4                               NaN   \n",
       "5                               NaN   \n",
       "6                               NaN   \n",
       "7                               NaN   \n",
       "8                               NaN   \n",
       "9                               NaN   \n",
       "\n",
       "   Military spending percent of total government spending   \\\n",
       "0                                                NaN         \n",
       "1                                                NaN         \n",
       "2                                                NaN         \n",
       "3                                                NaN         \n",
       "4                                                NaN         \n",
       "5                                                NaN         \n",
       "6                                                NaN         \n",
       "7                                                NaN         \n",
       "8                                                NaN         \n",
       "9                                                NaN         \n",
       "\n",
       "   Armed forces personnel  Human Development Index (0 - 1)  \n",
       "0                     NaN                              NaN  \n",
       "1                     NaN                              NaN  \n",
       "2                     NaN                              NaN  \n",
       "3                     NaN                              NaN  \n",
       "4                     NaN                              NaN  \n",
       "5                     NaN                              NaN  \n",
       "6                     NaN                              NaN  \n",
       "7                     NaN                              NaN  \n",
       "8                     NaN                              NaN  \n",
       "9                     NaN                              NaN  \n",
       "\n",
       "[10 rows x 23 columns]"
      ]
     },
     "execution_count": 7,
     "metadata": {},
     "output_type": "execute_result"
    }
   ],
   "source": [
    "mass_data.head(10)"
   ]
  },
  {
   "cell_type": "code",
   "execution_count": 8,
   "metadata": {},
   "outputs": [
    {
     "data": {
      "text/html": [
       "<div>\n",
       "<style scoped>\n",
       "    .dataframe tbody tr th:only-of-type {\n",
       "        vertical-align: middle;\n",
       "    }\n",
       "\n",
       "    .dataframe tbody tr th {\n",
       "        vertical-align: top;\n",
       "    }\n",
       "\n",
       "    .dataframe thead th {\n",
       "        text-align: right;\n",
       "    }\n",
       "</style>\n",
       "<table border=\"1\" class=\"dataframe\">\n",
       "  <thead>\n",
       "    <tr style=\"text-align: right;\">\n",
       "      <th></th>\n",
       "      <th>Country</th>\n",
       "      <th>Code</th>\n",
       "      <th>ContinentCode</th>\n",
       "      <th>Year</th>\n",
       "      <th>Economic growth: the rate of change of real GDP</th>\n",
       "      <th>GDP per capita current U.S. dollars</th>\n",
       "      <th>GDP per capita Purchasing Power Parity</th>\n",
       "      <th>GDP per capita constant 2010 dollars</th>\n",
       "      <th>Trade openness: exports plus imports as percent of GDP</th>\n",
       "      <th>Government spending as percent of GDP</th>\n",
       "      <th>...</th>\n",
       "      <th>Oil production thousand barrels per day</th>\n",
       "      <th>Gasoline production thousand barrels per day</th>\n",
       "      <th>Liquefied petroleum gas production thousand barrels per day</th>\n",
       "      <th>Nuclear electricity capacity million kilowatts</th>\n",
       "      <th>Nuclear power generation billion kilowatthours</th>\n",
       "      <th>Military spending in billion U.S. dollars</th>\n",
       "      <th>Military spending percent of GDP</th>\n",
       "      <th>Military spending percent of total government spending</th>\n",
       "      <th>Armed forces personnel</th>\n",
       "      <th>Human Development Index (0 - 1)</th>\n",
       "    </tr>\n",
       "  </thead>\n",
       "  <tbody>\n",
       "    <tr>\n",
       "      <th>85</th>\n",
       "      <td>Albania</td>\n",
       "      <td>ALB</td>\n",
       "      <td>EU</td>\n",
       "      <td>1997</td>\n",
       "      <td>-10.92</td>\n",
       "      <td>717.38</td>\n",
       "      <td>4400.0</td>\n",
       "      <td>1464.30</td>\n",
       "      <td>45.43</td>\n",
       "      <td>10.45</td>\n",
       "      <td>...</td>\n",
       "      <td>6.0</td>\n",
       "      <td>1.70</td>\n",
       "      <td>0.01</td>\n",
       "      <td>0.0</td>\n",
       "      <td>0.0</td>\n",
       "      <td>0.03</td>\n",
       "      <td>1.28</td>\n",
       "      <td>4.42</td>\n",
       "      <td>67500.0</td>\n",
       "      <td>0.639</td>\n",
       "    </tr>\n",
       "    <tr>\n",
       "      <th>86</th>\n",
       "      <td>Albania</td>\n",
       "      <td>ALB</td>\n",
       "      <td>EU</td>\n",
       "      <td>1998</td>\n",
       "      <td>8.83</td>\n",
       "      <td>813.79</td>\n",
       "      <td>4819.0</td>\n",
       "      <td>1603.65</td>\n",
       "      <td>48.14</td>\n",
       "      <td>10.84</td>\n",
       "      <td>...</td>\n",
       "      <td>6.0</td>\n",
       "      <td>1.70</td>\n",
       "      <td>0.01</td>\n",
       "      <td>0.0</td>\n",
       "      <td>0.0</td>\n",
       "      <td>0.03</td>\n",
       "      <td>1.24</td>\n",
       "      <td>3.58</td>\n",
       "      <td>67500.0</td>\n",
       "      <td>0.649</td>\n",
       "    </tr>\n",
       "    <tr>\n",
       "      <th>87</th>\n",
       "      <td>Albania</td>\n",
       "      <td>ALB</td>\n",
       "      <td>EU</td>\n",
       "      <td>1999</td>\n",
       "      <td>12.89</td>\n",
       "      <td>1033.24</td>\n",
       "      <td>5475.0</td>\n",
       "      <td>1821.87</td>\n",
       "      <td>51.01</td>\n",
       "      <td>11.06</td>\n",
       "      <td>...</td>\n",
       "      <td>5.0</td>\n",
       "      <td>0.60</td>\n",
       "      <td>0.01</td>\n",
       "      <td>0.0</td>\n",
       "      <td>0.0</td>\n",
       "      <td>0.04</td>\n",
       "      <td>1.25</td>\n",
       "      <td>3.58</td>\n",
       "      <td>67500.0</td>\n",
       "      <td>0.660</td>\n",
       "    </tr>\n",
       "    <tr>\n",
       "      <th>88</th>\n",
       "      <td>Albania</td>\n",
       "      <td>ALB</td>\n",
       "      <td>EU</td>\n",
       "      <td>2000</td>\n",
       "      <td>6.95</td>\n",
       "      <td>1126.68</td>\n",
       "      <td>5893.0</td>\n",
       "      <td>1960.88</td>\n",
       "      <td>63.45</td>\n",
       "      <td>9.69</td>\n",
       "      <td>...</td>\n",
       "      <td>5.0</td>\n",
       "      <td>0.84</td>\n",
       "      <td>0.04</td>\n",
       "      <td>0.0</td>\n",
       "      <td>0.0</td>\n",
       "      <td>0.05</td>\n",
       "      <td>1.25</td>\n",
       "      <td>3.84</td>\n",
       "      <td>67500.0</td>\n",
       "      <td>0.667</td>\n",
       "    </tr>\n",
       "    <tr>\n",
       "      <th>89</th>\n",
       "      <td>Albania</td>\n",
       "      <td>ALB</td>\n",
       "      <td>EU</td>\n",
       "      <td>2001</td>\n",
       "      <td>8.29</td>\n",
       "      <td>1281.66</td>\n",
       "      <td>6441.0</td>\n",
       "      <td>2143.53</td>\n",
       "      <td>66.49</td>\n",
       "      <td>10.63</td>\n",
       "      <td>...</td>\n",
       "      <td>5.0</td>\n",
       "      <td>0.82</td>\n",
       "      <td>0.04</td>\n",
       "      <td>0.0</td>\n",
       "      <td>0.0</td>\n",
       "      <td>0.05</td>\n",
       "      <td>1.31</td>\n",
       "      <td>4.15</td>\n",
       "      <td>40500.0</td>\n",
       "      <td>0.673</td>\n",
       "    </tr>\n",
       "    <tr>\n",
       "      <th>...</th>\n",
       "      <td>...</td>\n",
       "      <td>...</td>\n",
       "      <td>...</td>\n",
       "      <td>...</td>\n",
       "      <td>...</td>\n",
       "      <td>...</td>\n",
       "      <td>...</td>\n",
       "      <td>...</td>\n",
       "      <td>...</td>\n",
       "      <td>...</td>\n",
       "      <td>...</td>\n",
       "      <td>...</td>\n",
       "      <td>...</td>\n",
       "      <td>...</td>\n",
       "      <td>...</td>\n",
       "      <td>...</td>\n",
       "      <td>...</td>\n",
       "      <td>...</td>\n",
       "      <td>...</td>\n",
       "      <td>...</td>\n",
       "      <td>...</td>\n",
       "    </tr>\n",
       "    <tr>\n",
       "      <th>11143</th>\n",
       "      <td>Zimbabwe</td>\n",
       "      <td>ZWE</td>\n",
       "      <td>AF</td>\n",
       "      <td>2010</td>\n",
       "      <td>21.45</td>\n",
       "      <td>937.84</td>\n",
       "      <td>1800.0</td>\n",
       "      <td>1096.84</td>\n",
       "      <td>83.12</td>\n",
       "      <td>15.32</td>\n",
       "      <td>...</td>\n",
       "      <td>0.0</td>\n",
       "      <td>0.00</td>\n",
       "      <td>0.00</td>\n",
       "      <td>0.0</td>\n",
       "      <td>0.0</td>\n",
       "      <td>0.10</td>\n",
       "      <td>0.82</td>\n",
       "      <td>4.51</td>\n",
       "      <td>50800.0</td>\n",
       "      <td>0.472</td>\n",
       "    </tr>\n",
       "    <tr>\n",
       "      <th>11144</th>\n",
       "      <td>Zimbabwe</td>\n",
       "      <td>ZWE</td>\n",
       "      <td>AF</td>\n",
       "      <td>2011</td>\n",
       "      <td>14.62</td>\n",
       "      <td>1082.62</td>\n",
       "      <td>2033.0</td>\n",
       "      <td>1239.24</td>\n",
       "      <td>89.47</td>\n",
       "      <td>18.77</td>\n",
       "      <td>...</td>\n",
       "      <td>0.0</td>\n",
       "      <td>0.00</td>\n",
       "      <td>0.00</td>\n",
       "      <td>0.0</td>\n",
       "      <td>0.0</td>\n",
       "      <td>0.20</td>\n",
       "      <td>1.41</td>\n",
       "      <td>6.06</td>\n",
       "      <td>50800.0</td>\n",
       "      <td>0.490</td>\n",
       "    </tr>\n",
       "    <tr>\n",
       "      <th>11145</th>\n",
       "      <td>Zimbabwe</td>\n",
       "      <td>ZWE</td>\n",
       "      <td>AF</td>\n",
       "      <td>2012</td>\n",
       "      <td>15.74</td>\n",
       "      <td>1290.19</td>\n",
       "      <td>2311.0</td>\n",
       "      <td>1408.46</td>\n",
       "      <td>74.16</td>\n",
       "      <td>20.01</td>\n",
       "      <td>...</td>\n",
       "      <td>0.0</td>\n",
       "      <td>0.00</td>\n",
       "      <td>0.00</td>\n",
       "      <td>0.0</td>\n",
       "      <td>0.0</td>\n",
       "      <td>0.32</td>\n",
       "      <td>1.86</td>\n",
       "      <td>9.11</td>\n",
       "      <td>50800.0</td>\n",
       "      <td>0.516</td>\n",
       "    </tr>\n",
       "    <tr>\n",
       "      <th>11146</th>\n",
       "      <td>Zimbabwe</td>\n",
       "      <td>ZWE</td>\n",
       "      <td>AF</td>\n",
       "      <td>2013</td>\n",
       "      <td>3.20</td>\n",
       "      <td>1408.37</td>\n",
       "      <td>2334.0</td>\n",
       "      <td>1422.38</td>\n",
       "      <td>58.66</td>\n",
       "      <td>18.44</td>\n",
       "      <td>...</td>\n",
       "      <td>0.0</td>\n",
       "      <td>0.00</td>\n",
       "      <td>0.00</td>\n",
       "      <td>0.0</td>\n",
       "      <td>0.0</td>\n",
       "      <td>0.36</td>\n",
       "      <td>1.87</td>\n",
       "      <td>8.93</td>\n",
       "      <td>50800.0</td>\n",
       "      <td>0.527</td>\n",
       "    </tr>\n",
       "    <tr>\n",
       "      <th>11147</th>\n",
       "      <td>Zimbabwe</td>\n",
       "      <td>ZWE</td>\n",
       "      <td>AF</td>\n",
       "      <td>2014</td>\n",
       "      <td>1.48</td>\n",
       "      <td>1407.03</td>\n",
       "      <td>2317.0</td>\n",
       "      <td>1412.20</td>\n",
       "      <td>54.67</td>\n",
       "      <td>19.56</td>\n",
       "      <td>...</td>\n",
       "      <td>0.0</td>\n",
       "      <td>0.00</td>\n",
       "      <td>0.00</td>\n",
       "      <td>0.0</td>\n",
       "      <td>0.0</td>\n",
       "      <td>0.37</td>\n",
       "      <td>1.89</td>\n",
       "      <td>9.23</td>\n",
       "      <td>50800.0</td>\n",
       "      <td>0.537</td>\n",
       "    </tr>\n",
       "  </tbody>\n",
       "</table>\n",
       "<p>3410 rows × 23 columns</p>\n",
       "</div>"
      ],
      "text/plain": [
       "        Country Code ContinentCode  Year  \\\n",
       "85      Albania  ALB            EU  1997   \n",
       "86      Albania  ALB            EU  1998   \n",
       "87      Albania  ALB            EU  1999   \n",
       "88      Albania  ALB            EU  2000   \n",
       "89      Albania  ALB            EU  2001   \n",
       "...         ...  ...           ...   ...   \n",
       "11143  Zimbabwe  ZWE            AF  2010   \n",
       "11144  Zimbabwe  ZWE            AF  2011   \n",
       "11145  Zimbabwe  ZWE            AF  2012   \n",
       "11146  Zimbabwe  ZWE            AF  2013   \n",
       "11147  Zimbabwe  ZWE            AF  2014   \n",
       "\n",
       "       Economic growth: the rate of change of real GDP  \\\n",
       "85                                              -10.92   \n",
       "86                                                8.83   \n",
       "87                                               12.89   \n",
       "88                                                6.95   \n",
       "89                                                8.29   \n",
       "...                                                ...   \n",
       "11143                                            21.45   \n",
       "11144                                            14.62   \n",
       "11145                                            15.74   \n",
       "11146                                             3.20   \n",
       "11147                                             1.48   \n",
       "\n",
       "       GDP per capita current U.S. dollars  \\\n",
       "85                                  717.38   \n",
       "86                                  813.79   \n",
       "87                                 1033.24   \n",
       "88                                 1126.68   \n",
       "89                                 1281.66   \n",
       "...                                    ...   \n",
       "11143                               937.84   \n",
       "11144                              1082.62   \n",
       "11145                              1290.19   \n",
       "11146                              1408.37   \n",
       "11147                              1407.03   \n",
       "\n",
       "       GDP per capita Purchasing Power Parity  \\\n",
       "85                                     4400.0   \n",
       "86                                     4819.0   \n",
       "87                                     5475.0   \n",
       "88                                     5893.0   \n",
       "89                                     6441.0   \n",
       "...                                       ...   \n",
       "11143                                  1800.0   \n",
       "11144                                  2033.0   \n",
       "11145                                  2311.0   \n",
       "11146                                  2334.0   \n",
       "11147                                  2317.0   \n",
       "\n",
       "       GDP per capita constant 2010 dollars  \\\n",
       "85                                  1464.30   \n",
       "86                                  1603.65   \n",
       "87                                  1821.87   \n",
       "88                                  1960.88   \n",
       "89                                  2143.53   \n",
       "...                                     ...   \n",
       "11143                               1096.84   \n",
       "11144                               1239.24   \n",
       "11145                               1408.46   \n",
       "11146                               1422.38   \n",
       "11147                               1412.20   \n",
       "\n",
       "       Trade openness: exports plus imports as percent of GDP  \\\n",
       "85                                                 45.43        \n",
       "86                                                 48.14        \n",
       "87                                                 51.01        \n",
       "88                                                 63.45        \n",
       "89                                                 66.49        \n",
       "...                                                  ...        \n",
       "11143                                              83.12        \n",
       "11144                                              89.47        \n",
       "11145                                              74.16        \n",
       "11146                                              58.66        \n",
       "11147                                              54.67        \n",
       "\n",
       "       Government spending as percent of GDP  ...  \\\n",
       "85                                     10.45  ...   \n",
       "86                                     10.84  ...   \n",
       "87                                     11.06  ...   \n",
       "88                                      9.69  ...   \n",
       "89                                     10.63  ...   \n",
       "...                                      ...  ...   \n",
       "11143                                  15.32  ...   \n",
       "11144                                  18.77  ...   \n",
       "11145                                  20.01  ...   \n",
       "11146                                  18.44  ...   \n",
       "11147                                  19.56  ...   \n",
       "\n",
       "       Oil production thousand barrels per day  \\\n",
       "85                                         6.0   \n",
       "86                                         6.0   \n",
       "87                                         5.0   \n",
       "88                                         5.0   \n",
       "89                                         5.0   \n",
       "...                                        ...   \n",
       "11143                                      0.0   \n",
       "11144                                      0.0   \n",
       "11145                                      0.0   \n",
       "11146                                      0.0   \n",
       "11147                                      0.0   \n",
       "\n",
       "       Gasoline production thousand barrels per day  \\\n",
       "85                                             1.70   \n",
       "86                                             1.70   \n",
       "87                                             0.60   \n",
       "88                                             0.84   \n",
       "89                                             0.82   \n",
       "...                                             ...   \n",
       "11143                                          0.00   \n",
       "11144                                          0.00   \n",
       "11145                                          0.00   \n",
       "11146                                          0.00   \n",
       "11147                                          0.00   \n",
       "\n",
       "       Liquefied petroleum gas production thousand barrels per day  \\\n",
       "85                                                  0.01             \n",
       "86                                                  0.01             \n",
       "87                                                  0.01             \n",
       "88                                                  0.04             \n",
       "89                                                  0.04             \n",
       "...                                                  ...             \n",
       "11143                                               0.00             \n",
       "11144                                               0.00             \n",
       "11145                                               0.00             \n",
       "11146                                               0.00             \n",
       "11147                                               0.00             \n",
       "\n",
       "       Nuclear electricity capacity million kilowatts  \\\n",
       "85                                                0.0   \n",
       "86                                                0.0   \n",
       "87                                                0.0   \n",
       "88                                                0.0   \n",
       "89                                                0.0   \n",
       "...                                               ...   \n",
       "11143                                             0.0   \n",
       "11144                                             0.0   \n",
       "11145                                             0.0   \n",
       "11146                                             0.0   \n",
       "11147                                             0.0   \n",
       "\n",
       "       Nuclear power generation billion kilowatthours  \\\n",
       "85                                                0.0   \n",
       "86                                                0.0   \n",
       "87                                                0.0   \n",
       "88                                                0.0   \n",
       "89                                                0.0   \n",
       "...                                               ...   \n",
       "11143                                             0.0   \n",
       "11144                                             0.0   \n",
       "11145                                             0.0   \n",
       "11146                                             0.0   \n",
       "11147                                             0.0   \n",
       "\n",
       "       Military spending in billion U.S. dollars  \\\n",
       "85                                          0.03   \n",
       "86                                          0.03   \n",
       "87                                          0.04   \n",
       "88                                          0.05   \n",
       "89                                          0.05   \n",
       "...                                          ...   \n",
       "11143                                       0.10   \n",
       "11144                                       0.20   \n",
       "11145                                       0.32   \n",
       "11146                                       0.36   \n",
       "11147                                       0.37   \n",
       "\n",
       "       Military spending percent of GDP  \\\n",
       "85                                 1.28   \n",
       "86                                 1.24   \n",
       "87                                 1.25   \n",
       "88                                 1.25   \n",
       "89                                 1.31   \n",
       "...                                 ...   \n",
       "11143                              0.82   \n",
       "11144                              1.41   \n",
       "11145                              1.86   \n",
       "11146                              1.87   \n",
       "11147                              1.89   \n",
       "\n",
       "       Military spending percent of total government spending   \\\n",
       "85                                                  4.42         \n",
       "86                                                  3.58         \n",
       "87                                                  3.58         \n",
       "88                                                  3.84         \n",
       "89                                                  4.15         \n",
       "...                                                  ...         \n",
       "11143                                               4.51         \n",
       "11144                                               6.06         \n",
       "11145                                               9.11         \n",
       "11146                                               8.93         \n",
       "11147                                               9.23         \n",
       "\n",
       "       Armed forces personnel  Human Development Index (0 - 1)  \n",
       "85                    67500.0                            0.639  \n",
       "86                    67500.0                            0.649  \n",
       "87                    67500.0                            0.660  \n",
       "88                    67500.0                            0.667  \n",
       "89                    40500.0                            0.673  \n",
       "...                       ...                              ...  \n",
       "11143                 50800.0                            0.472  \n",
       "11144                 50800.0                            0.490  \n",
       "11145                 50800.0                            0.516  \n",
       "11146                 50800.0                            0.527  \n",
       "11147                 50800.0                            0.537  \n",
       "\n",
       "[3410 rows x 23 columns]"
      ]
     },
     "execution_count": 8,
     "metadata": {},
     "output_type": "execute_result"
    }
   ],
   "source": [
    "combined_cleaned_df= pd.concat([dropped_cols_df, dropped_rows_df])\n",
    "combined_cleaned_df"
   ]
  },
  {
   "cell_type": "code",
   "execution_count": 9,
   "metadata": {},
   "outputs": [
    {
     "data": {
      "text/plain": [
       "['Country',\n",
       " 'Code',\n",
       " 'ContinentCode',\n",
       " 'Year',\n",
       " 'Economic growth: the rate of change of real GDP',\n",
       " 'GDP per capita current U.S. dollars',\n",
       " 'GDP per capita Purchasing Power Parity',\n",
       " 'GDP per capita constant 2010 dollars',\n",
       " 'Trade openness: exports plus imports as percent of GDP',\n",
       " 'Government spending as percent of GDP',\n",
       " 'Government spending billion USD',\n",
       " 'Government debt as percent of GDP',\n",
       " 'Economic growth forecast',\n",
       " 'Oil production thousand barrels per day',\n",
       " 'Gasoline production thousand barrels per day',\n",
       " 'Liquefied petroleum gas production thousand barrels per day',\n",
       " 'Nuclear electricity capacity million kilowatts',\n",
       " 'Nuclear power generation billion kilowatthours',\n",
       " 'Military spending in billion U.S. dollars',\n",
       " 'Military spending percent of GDP',\n",
       " 'Military spending percent of total government spending ',\n",
       " 'Armed forces personnel',\n",
       " 'Human Development Index (0 - 1)']"
      ]
     },
     "execution_count": 9,
     "metadata": {},
     "output_type": "execute_result"
    }
   ],
   "source": [
    "testing_df = combined_cleaned_df.columns.tolist()\n",
    "testing_df\n"
   ]
  },
  {
   "cell_type": "code",
   "execution_count": 30,
   "metadata": {},
   "outputs": [
    {
     "data": {
      "application/vnd.plotly.v1+json": {
       "config": {
        "plotlyServerURL": "https://plot.ly"
       },
       "data": [
        {
         "hovertemplate": "Economic growth: the rate of change of real GDP=%{x}<br>Human Development Index (0 - 1)=%{y}<br>Country=%{text}<extra></extra>",
         "legendgroup": "",
         "marker": {
          "color": "#636efa",
          "symbol": "circle"
         },
         "mode": "markers+text",
         "name": "",
         "orientation": "v",
         "showlegend": false,
         "text": [
          "Albania",
          "Algeria",
          "Angola",
          "Argentina",
          "Armenia",
          "Australia",
          "Austria",
          "Azerbaijan",
          "Bahrain",
          "Bangladesh",
          "Belarus",
          "Belgium",
          "Benin",
          "Bolivia",
          "Bosnia and Herzegovina",
          "Botswana",
          "Brazil",
          "Brunei",
          "Bulgaria",
          "Burkina Faso",
          "Burundi",
          "Cambodia",
          "Cameroon",
          "Cape Verde",
          "Central African Republic",
          "Chad",
          "Chile",
          "China",
          "Colombia",
          "Croatia",
          "Cyprus",
          "Czechia",
          "Denmark",
          "Ecuador",
          "Egypt",
          "Equatorial Guinea",
          "Estonia",
          "Ethiopia",
          "Finland",
          "France",
          "Gabon",
          "Gambia",
          "Georgia",
          "Germany",
          "Ghana",
          "Greece",
          "Guinea",
          "Guinea-Bissau",
          "Guyana",
          "Hungary",
          "India",
          "Indonesia",
          "Iran",
          "Iraq",
          "Ireland",
          "Israel",
          "Italy",
          "Japan",
          "Jordan",
          "Kazakhstan",
          "Kenya",
          "Kuwait",
          "Kyrgyzstan",
          "Laos",
          "Latvia",
          "Lebanon",
          "Lesotho",
          "Lithuania",
          "Luxembourg",
          "Madagascar",
          "Malaysia",
          "Mali",
          "Malta",
          "Mauritania",
          "Mauritius",
          "Moldova",
          "Montenegro",
          "Morocco",
          "Namibia",
          "Nepal",
          "Netherlands",
          "New Zealand",
          "Niger",
          "North Macedonia",
          "Norway",
          "Oman",
          "Pakistan",
          "Papua New Guinea",
          "Paraguay",
          "Peru",
          "Philippines",
          "Poland",
          "Portugal",
          "Qatar",
          "Republic of the Congo",
          "Romania",
          "Russia",
          "Rwanda",
          "Saudi Arabia",
          "Senegal",
          "Serbia",
          "Seychelles",
          "Sierra Leone",
          "Singapore",
          "Slovakia",
          "Slovenia",
          "South Africa",
          "South Korea",
          "Spain",
          "Sri Lanka",
          "Sudan",
          "Sweden",
          "Switzerland",
          "Tajikistan",
          "Tanzania",
          "Thailand",
          "Togo",
          "Tunisia",
          "Turkey",
          "Uganda",
          "Ukraine",
          "United Arab Emirates",
          "United Kingdom",
          "Uruguay",
          "Uzbekistan",
          "Vietnam",
          "Zambia",
          "Zimbabwe"
         ],
         "textposition": "top center",
         "type": "scatter",
         "x": [
          4.462777777777777,
          2.9291666666666667,
          8.185384615384615,
          2.7444444444444445,
          4.522222222222222,
          3.1672,
          2.0116,
          9.3,
          3.9619999999999997,
          6.108181818181818,
          6.131818181818182,
          1.6254545454545453,
          4.8999999999999995,
          4.237333333333334,
          2.5863636363636364,
          4.01,
          3.5455555555555556,
          1.5019999999999998,
          2.912941176470588,
          5.765,
          4.384,
          7.835454545454545,
          4.196428571428571,
          3.61,
          -0.02899999999999983,
          10.245000000000001,
          5.14125,
          9.618500000000001,
          4.762222222222222,
          2.108421052631579,
          1.0818181818181818,
          2.3342105263157897,
          1.0553333333333332,
          3.5784999999999996,
          4.381875,
          8.71,
          2.847272727272727,
          10.26,
          1.080909090909091,
          1.6303999999999998,
          3.1827272727272726,
          3.42125,
          5.838181818181818,
          1.4720833333333332,
          5.6979999999999995,
          0.967,
          3.9775,
          3.262857142857143,
          -0.19499999999999995,
          2.2345,
          6.165833333333333,
          5.336,
          3.5184210526315787,
          9.992727272727272,
          2.3709090909090906,
          4.255454545454546,
          0.622,
          1.1549999999999998,
          5.336363636363637,
          7.092307692307693,
          4.797,
          5.580454545454545,
          4.526,
          7.764,
          2.950909090909091,
          5.057,
          3.5225,
          3.5645454545454545,
          2.6845454545454546,
          2.931,
          5.9692,
          3.8981818181818184,
          3.339090909090909,
          5.53625,
          3.9299999999999997,
          4.024285714285714,
          1.78,
          3.675333333333333,
          5.28,
          4.364545454545454,
          2.1204,
          2.7424,
          5.647777777777778,
          3.446363636363636,
          2.4684,
          3.6766666666666667,
          3.889444444444445,
          2.3123076923076926,
          4.63,
          5.299333333333333,
          4.324285714285715,
          4.1625,
          -0.021818181818181823,
          14.553333333333333,
          3.6,
          2.984,
          4.189411764705882,
          7.669,
          3.534166666666667,
          3.446363636363636,
          1.9855555555555557,
          3.2270000000000003,
          7.748181818181819,
          6.4781818181818185,
          4.108,
          1.65,
          3.2333333333333334,
          3.9654545454545453,
          2.044,
          5.941666666666666,
          5.722307692307693,
          2.083636363636364,
          2.210909090909091,
          7.608461538461539,
          6.473000000000001,
          3.277368421052632,
          4.28,
          4.041666666666667,
          5.910769230769231,
          6.462999999999999,
          2.3266666666666667,
          4.064285714285714,
          1.9980000000000002,
          3.8066666666666666,
          4.050000000000001,
          6.0600000000000005,
          6.644,
          6.76
         ],
         "xaxis": "x",
         "y": [
          0.7092777777777778,
          0.6674583333333333,
          0.48969230769230765,
          0.7912777777777777,
          0.730111111111111,
          0.90024,
          0.84872,
          0.68165,
          0.8022,
          0.538,
          0.773090909090909,
          0.8997272727272727,
          0.4716666666666667,
          0.6436666666666667,
          0.7209090909090908,
          0.649090909090909,
          0.7263333333333333,
          0.8106399999999999,
          0.7538823529411766,
          0.3663,
          0.40099999999999997,
          0.5247272727272727,
          0.4855,
          0.629375,
          0.34550000000000003,
          0.3592,
          0.7701250000000001,
          0.6409,
          0.7281111111111112,
          0.7798421052631579,
          0.8460909090909091,
          0.8287368421052632,
          0.9034,
          0.6967000000000001,
          0.6455,
          0.5872499999999999,
          0.843,
          0.446,
          0.9037272727272728,
          0.84476,
          0.6501818181818182,
          0.431125,
          0.7295454545454546,
          0.8795000000000001,
          0.5124500000000001,
          0.8262,
          0.41975,
          0.4287142857142857,
          0.6165,
          0.7939,
          0.5210416666666667,
          0.6473333333333334,
          0.7140000000000001,
          0.6478181818181818,
          0.8983636363636364,
          0.8836363636363637,
          0.84795,
          0.902,
          0.7274545454545454,
          0.7585384615384616,
          0.523,
          0.7794545454545454,
          0.6267999999999999,
          0.5352,
          0.8173636363636363,
          0.7394999999999999,
          0.4665,
          0.8260909090909091,
          0.8879090909090909,
          0.4981,
          0.7242400000000001,
          0.3893636363636363,
          0.8403636363636363,
          0.489125,
          0.75,
          0.6882857142857143,
          0.803,
          0.5729333333333333,
          0.581,
          0.5140909090909092,
          0.88188,
          0.8736,
          0.31699999999999995,
          0.7254545454545455,
          0.91256,
          0.765,
          0.49233333333333335,
          0.4257692307692308,
          0.6848181818181819,
          0.7102666666666667,
          0.6437619047619048,
          0.8041,
          0.8178181818181819,
          0.8347777777777777,
          0.5317000000000001,
          0.7495,
          0.7575882352941177,
          0.4681,
          0.7651666666666667,
          0.46345454545454545,
          0.7652222222222222,
          0.7564,
          0.38436363636363635,
          0.8935454545454546,
          0.7948999999999999,
          0.874909090909091,
          0.6424666666666667,
          0.8751818181818183,
          0.8412,
          0.7308333333333333,
          0.4190769230769231,
          0.9070909090909091,
          0.9230909090909091,
          0.5872307692307692,
          0.47750000000000004,
          0.6854736842105262,
          0.470125,
          0.6633749999999999,
          0.7240769230769231,
          0.47569999999999996,
          0.7093888888888888,
          0.8162857142857142,
          0.86504,
          0.795,
          0.606,
          0.6664000000000001,
          0.5496000000000001,
          0.48514285714285715
         ],
         "yaxis": "y"
        }
       ],
       "layout": {
        "legend": {
         "tracegroupgap": 0
        },
        "template": {
         "data": {
          "bar": [
           {
            "error_x": {
             "color": "#2a3f5f"
            },
            "error_y": {
             "color": "#2a3f5f"
            },
            "marker": {
             "line": {
              "color": "#E5ECF6",
              "width": 0.5
             },
             "pattern": {
              "fillmode": "overlay",
              "size": 10,
              "solidity": 0.2
             }
            },
            "type": "bar"
           }
          ],
          "barpolar": [
           {
            "marker": {
             "line": {
              "color": "#E5ECF6",
              "width": 0.5
             },
             "pattern": {
              "fillmode": "overlay",
              "size": 10,
              "solidity": 0.2
             }
            },
            "type": "barpolar"
           }
          ],
          "carpet": [
           {
            "aaxis": {
             "endlinecolor": "#2a3f5f",
             "gridcolor": "white",
             "linecolor": "white",
             "minorgridcolor": "white",
             "startlinecolor": "#2a3f5f"
            },
            "baxis": {
             "endlinecolor": "#2a3f5f",
             "gridcolor": "white",
             "linecolor": "white",
             "minorgridcolor": "white",
             "startlinecolor": "#2a3f5f"
            },
            "type": "carpet"
           }
          ],
          "choropleth": [
           {
            "colorbar": {
             "outlinewidth": 0,
             "ticks": ""
            },
            "type": "choropleth"
           }
          ],
          "contour": [
           {
            "colorbar": {
             "outlinewidth": 0,
             "ticks": ""
            },
            "colorscale": [
             [
              0,
              "#0d0887"
             ],
             [
              0.1111111111111111,
              "#46039f"
             ],
             [
              0.2222222222222222,
              "#7201a8"
             ],
             [
              0.3333333333333333,
              "#9c179e"
             ],
             [
              0.4444444444444444,
              "#bd3786"
             ],
             [
              0.5555555555555556,
              "#d8576b"
             ],
             [
              0.6666666666666666,
              "#ed7953"
             ],
             [
              0.7777777777777778,
              "#fb9f3a"
             ],
             [
              0.8888888888888888,
              "#fdca26"
             ],
             [
              1,
              "#f0f921"
             ]
            ],
            "type": "contour"
           }
          ],
          "contourcarpet": [
           {
            "colorbar": {
             "outlinewidth": 0,
             "ticks": ""
            },
            "type": "contourcarpet"
           }
          ],
          "heatmap": [
           {
            "colorbar": {
             "outlinewidth": 0,
             "ticks": ""
            },
            "colorscale": [
             [
              0,
              "#0d0887"
             ],
             [
              0.1111111111111111,
              "#46039f"
             ],
             [
              0.2222222222222222,
              "#7201a8"
             ],
             [
              0.3333333333333333,
              "#9c179e"
             ],
             [
              0.4444444444444444,
              "#bd3786"
             ],
             [
              0.5555555555555556,
              "#d8576b"
             ],
             [
              0.6666666666666666,
              "#ed7953"
             ],
             [
              0.7777777777777778,
              "#fb9f3a"
             ],
             [
              0.8888888888888888,
              "#fdca26"
             ],
             [
              1,
              "#f0f921"
             ]
            ],
            "type": "heatmap"
           }
          ],
          "heatmapgl": [
           {
            "colorbar": {
             "outlinewidth": 0,
             "ticks": ""
            },
            "colorscale": [
             [
              0,
              "#0d0887"
             ],
             [
              0.1111111111111111,
              "#46039f"
             ],
             [
              0.2222222222222222,
              "#7201a8"
             ],
             [
              0.3333333333333333,
              "#9c179e"
             ],
             [
              0.4444444444444444,
              "#bd3786"
             ],
             [
              0.5555555555555556,
              "#d8576b"
             ],
             [
              0.6666666666666666,
              "#ed7953"
             ],
             [
              0.7777777777777778,
              "#fb9f3a"
             ],
             [
              0.8888888888888888,
              "#fdca26"
             ],
             [
              1,
              "#f0f921"
             ]
            ],
            "type": "heatmapgl"
           }
          ],
          "histogram": [
           {
            "marker": {
             "pattern": {
              "fillmode": "overlay",
              "size": 10,
              "solidity": 0.2
             }
            },
            "type": "histogram"
           }
          ],
          "histogram2d": [
           {
            "colorbar": {
             "outlinewidth": 0,
             "ticks": ""
            },
            "colorscale": [
             [
              0,
              "#0d0887"
             ],
             [
              0.1111111111111111,
              "#46039f"
             ],
             [
              0.2222222222222222,
              "#7201a8"
             ],
             [
              0.3333333333333333,
              "#9c179e"
             ],
             [
              0.4444444444444444,
              "#bd3786"
             ],
             [
              0.5555555555555556,
              "#d8576b"
             ],
             [
              0.6666666666666666,
              "#ed7953"
             ],
             [
              0.7777777777777778,
              "#fb9f3a"
             ],
             [
              0.8888888888888888,
              "#fdca26"
             ],
             [
              1,
              "#f0f921"
             ]
            ],
            "type": "histogram2d"
           }
          ],
          "histogram2dcontour": [
           {
            "colorbar": {
             "outlinewidth": 0,
             "ticks": ""
            },
            "colorscale": [
             [
              0,
              "#0d0887"
             ],
             [
              0.1111111111111111,
              "#46039f"
             ],
             [
              0.2222222222222222,
              "#7201a8"
             ],
             [
              0.3333333333333333,
              "#9c179e"
             ],
             [
              0.4444444444444444,
              "#bd3786"
             ],
             [
              0.5555555555555556,
              "#d8576b"
             ],
             [
              0.6666666666666666,
              "#ed7953"
             ],
             [
              0.7777777777777778,
              "#fb9f3a"
             ],
             [
              0.8888888888888888,
              "#fdca26"
             ],
             [
              1,
              "#f0f921"
             ]
            ],
            "type": "histogram2dcontour"
           }
          ],
          "mesh3d": [
           {
            "colorbar": {
             "outlinewidth": 0,
             "ticks": ""
            },
            "type": "mesh3d"
           }
          ],
          "parcoords": [
           {
            "line": {
             "colorbar": {
              "outlinewidth": 0,
              "ticks": ""
             }
            },
            "type": "parcoords"
           }
          ],
          "pie": [
           {
            "automargin": true,
            "type": "pie"
           }
          ],
          "scatter": [
           {
            "fillpattern": {
             "fillmode": "overlay",
             "size": 10,
             "solidity": 0.2
            },
            "type": "scatter"
           }
          ],
          "scatter3d": [
           {
            "line": {
             "colorbar": {
              "outlinewidth": 0,
              "ticks": ""
             }
            },
            "marker": {
             "colorbar": {
              "outlinewidth": 0,
              "ticks": ""
             }
            },
            "type": "scatter3d"
           }
          ],
          "scattercarpet": [
           {
            "marker": {
             "colorbar": {
              "outlinewidth": 0,
              "ticks": ""
             }
            },
            "type": "scattercarpet"
           }
          ],
          "scattergeo": [
           {
            "marker": {
             "colorbar": {
              "outlinewidth": 0,
              "ticks": ""
             }
            },
            "type": "scattergeo"
           }
          ],
          "scattergl": [
           {
            "marker": {
             "colorbar": {
              "outlinewidth": 0,
              "ticks": ""
             }
            },
            "type": "scattergl"
           }
          ],
          "scattermapbox": [
           {
            "marker": {
             "colorbar": {
              "outlinewidth": 0,
              "ticks": ""
             }
            },
            "type": "scattermapbox"
           }
          ],
          "scatterpolar": [
           {
            "marker": {
             "colorbar": {
              "outlinewidth": 0,
              "ticks": ""
             }
            },
            "type": "scatterpolar"
           }
          ],
          "scatterpolargl": [
           {
            "marker": {
             "colorbar": {
              "outlinewidth": 0,
              "ticks": ""
             }
            },
            "type": "scatterpolargl"
           }
          ],
          "scatterternary": [
           {
            "marker": {
             "colorbar": {
              "outlinewidth": 0,
              "ticks": ""
             }
            },
            "type": "scatterternary"
           }
          ],
          "surface": [
           {
            "colorbar": {
             "outlinewidth": 0,
             "ticks": ""
            },
            "colorscale": [
             [
              0,
              "#0d0887"
             ],
             [
              0.1111111111111111,
              "#46039f"
             ],
             [
              0.2222222222222222,
              "#7201a8"
             ],
             [
              0.3333333333333333,
              "#9c179e"
             ],
             [
              0.4444444444444444,
              "#bd3786"
             ],
             [
              0.5555555555555556,
              "#d8576b"
             ],
             [
              0.6666666666666666,
              "#ed7953"
             ],
             [
              0.7777777777777778,
              "#fb9f3a"
             ],
             [
              0.8888888888888888,
              "#fdca26"
             ],
             [
              1,
              "#f0f921"
             ]
            ],
            "type": "surface"
           }
          ],
          "table": [
           {
            "cells": {
             "fill": {
              "color": "#EBF0F8"
             },
             "line": {
              "color": "white"
             }
            },
            "header": {
             "fill": {
              "color": "#C8D4E3"
             },
             "line": {
              "color": "white"
             }
            },
            "type": "table"
           }
          ]
         },
         "layout": {
          "annotationdefaults": {
           "arrowcolor": "#2a3f5f",
           "arrowhead": 0,
           "arrowwidth": 1
          },
          "autotypenumbers": "strict",
          "coloraxis": {
           "colorbar": {
            "outlinewidth": 0,
            "ticks": ""
           }
          },
          "colorscale": {
           "diverging": [
            [
             0,
             "#8e0152"
            ],
            [
             0.1,
             "#c51b7d"
            ],
            [
             0.2,
             "#de77ae"
            ],
            [
             0.3,
             "#f1b6da"
            ],
            [
             0.4,
             "#fde0ef"
            ],
            [
             0.5,
             "#f7f7f7"
            ],
            [
             0.6,
             "#e6f5d0"
            ],
            [
             0.7,
             "#b8e186"
            ],
            [
             0.8,
             "#7fbc41"
            ],
            [
             0.9,
             "#4d9221"
            ],
            [
             1,
             "#276419"
            ]
           ],
           "sequential": [
            [
             0,
             "#0d0887"
            ],
            [
             0.1111111111111111,
             "#46039f"
            ],
            [
             0.2222222222222222,
             "#7201a8"
            ],
            [
             0.3333333333333333,
             "#9c179e"
            ],
            [
             0.4444444444444444,
             "#bd3786"
            ],
            [
             0.5555555555555556,
             "#d8576b"
            ],
            [
             0.6666666666666666,
             "#ed7953"
            ],
            [
             0.7777777777777778,
             "#fb9f3a"
            ],
            [
             0.8888888888888888,
             "#fdca26"
            ],
            [
             1,
             "#f0f921"
            ]
           ],
           "sequentialminus": [
            [
             0,
             "#0d0887"
            ],
            [
             0.1111111111111111,
             "#46039f"
            ],
            [
             0.2222222222222222,
             "#7201a8"
            ],
            [
             0.3333333333333333,
             "#9c179e"
            ],
            [
             0.4444444444444444,
             "#bd3786"
            ],
            [
             0.5555555555555556,
             "#d8576b"
            ],
            [
             0.6666666666666666,
             "#ed7953"
            ],
            [
             0.7777777777777778,
             "#fb9f3a"
            ],
            [
             0.8888888888888888,
             "#fdca26"
            ],
            [
             1,
             "#f0f921"
            ]
           ]
          },
          "colorway": [
           "#636efa",
           "#EF553B",
           "#00cc96",
           "#ab63fa",
           "#FFA15A",
           "#19d3f3",
           "#FF6692",
           "#B6E880",
           "#FF97FF",
           "#FECB52"
          ],
          "font": {
           "color": "#2a3f5f"
          },
          "geo": {
           "bgcolor": "white",
           "lakecolor": "white",
           "landcolor": "#E5ECF6",
           "showlakes": true,
           "showland": true,
           "subunitcolor": "white"
          },
          "hoverlabel": {
           "align": "left"
          },
          "hovermode": "closest",
          "mapbox": {
           "style": "light"
          },
          "paper_bgcolor": "white",
          "plot_bgcolor": "#E5ECF6",
          "polar": {
           "angularaxis": {
            "gridcolor": "white",
            "linecolor": "white",
            "ticks": ""
           },
           "bgcolor": "#E5ECF6",
           "radialaxis": {
            "gridcolor": "white",
            "linecolor": "white",
            "ticks": ""
           }
          },
          "scene": {
           "xaxis": {
            "backgroundcolor": "#E5ECF6",
            "gridcolor": "white",
            "gridwidth": 2,
            "linecolor": "white",
            "showbackground": true,
            "ticks": "",
            "zerolinecolor": "white"
           },
           "yaxis": {
            "backgroundcolor": "#E5ECF6",
            "gridcolor": "white",
            "gridwidth": 2,
            "linecolor": "white",
            "showbackground": true,
            "ticks": "",
            "zerolinecolor": "white"
           },
           "zaxis": {
            "backgroundcolor": "#E5ECF6",
            "gridcolor": "white",
            "gridwidth": 2,
            "linecolor": "white",
            "showbackground": true,
            "ticks": "",
            "zerolinecolor": "white"
           }
          },
          "shapedefaults": {
           "line": {
            "color": "#2a3f5f"
           }
          },
          "ternary": {
           "aaxis": {
            "gridcolor": "white",
            "linecolor": "white",
            "ticks": ""
           },
           "baxis": {
            "gridcolor": "white",
            "linecolor": "white",
            "ticks": ""
           },
           "bgcolor": "#E5ECF6",
           "caxis": {
            "gridcolor": "white",
            "linecolor": "white",
            "ticks": ""
           }
          },
          "title": {
           "x": 0.05
          },
          "xaxis": {
           "automargin": true,
           "gridcolor": "white",
           "linecolor": "white",
           "ticks": "",
           "title": {
            "standoff": 15
           },
           "zerolinecolor": "white",
           "zerolinewidth": 2
          },
          "yaxis": {
           "automargin": true,
           "gridcolor": "white",
           "linecolor": "white",
           "ticks": "",
           "title": {
            "standoff": 15
           },
           "zerolinecolor": "white",
           "zerolinewidth": 2
          }
         }
        },
        "title": {
         "text": "Average Human Development Index vs Average Economic Growth by Country"
        },
        "xaxis": {
         "anchor": "y",
         "domain": [
          0,
          1
         ],
         "title": {
          "text": "Economic growth: the rate of change of real GDP"
         }
        },
        "yaxis": {
         "anchor": "x",
         "domain": [
          0,
          1
         ],
         "title": {
          "text": "Human Development Index (0 - 1)"
         }
        }
       }
      }
     },
     "metadata": {},
     "output_type": "display_data"
    }
   ],
   "source": [
    "fig = px.scatter(avg_df, x='Economic growth: the rate of change of real GDP',\n",
    "                 y='Human Development Index (0 - 1)',\n",
    "                 text='Country', title='Average Human Development Index vs Average Economic Growth by Country')\n",
    "\n",
    "# Update layout for better visibility of labels\n",
    "fig.update_traces(textposition='top center')\n",
    "\n",
    "# Show the plot\n",
    "fig.show()"
   ]
  },
  {
   "cell_type": "code",
   "execution_count": 27,
   "metadata": {},
   "outputs": [
    {
     "data": {
      "application/vnd.plotly.v1+json": {
       "config": {
        "plotlyServerURL": "https://plot.ly"
       },
       "data": [
        {
         "geo": "geo",
         "hovertemplate": "<b>%{hovertext}</b><br><br>Economic growth: the rate of change of real GDP=%{marker.size}<br>Country=%{location}<br>Human Development Index (0 - 1)=%{marker.color}<extra></extra>",
         "hovertext": [
          "USA",
          "China",
          "India",
          "Brazil",
          "South Africa"
         ],
         "legendgroup": "",
         "locationmode": "country names",
         "locations": [
          "USA",
          "China",
          "India",
          "Brazil",
          "South Africa"
         ],
         "marker": {
          "color": [
           0.926,
           0.758,
           0.645,
           0.699,
           0.711
          ],
          "coloraxis": "coloraxis",
          "size": [
           2.3,
           6,
           5,
           1,
           3
          ],
          "sizemode": "area",
          "sizeref": 0.0006,
          "symbol": "circle"
         },
         "mode": "markers",
         "name": "",
         "showlegend": false,
         "type": "scattergeo"
        }
       ],
       "layout": {
        "coloraxis": {
         "colorbar": {
          "ticktext": [
           "0.6",
           "0.7",
           "0.8",
           "0.9"
          ],
          "tickvals": [
           0.6,
           0.7,
           0.8,
           0.9
          ],
          "title": {
           "text": "Human Development Index"
          }
         },
         "colorscale": [
          [
           0,
           "#0d0887"
          ],
          [
           0.1111111111111111,
           "#46039f"
          ],
          [
           0.2222222222222222,
           "#7201a8"
          ],
          [
           0.3333333333333333,
           "#9c179e"
          ],
          [
           0.4444444444444444,
           "#bd3786"
          ],
          [
           0.5555555555555556,
           "#d8576b"
          ],
          [
           0.6666666666666666,
           "#ed7953"
          ],
          [
           0.7777777777777778,
           "#fb9f3a"
          ],
          [
           0.8888888888888888,
           "#fdca26"
          ],
          [
           1,
           "#f0f921"
          ]
         ]
        },
        "geo": {
         "center": {},
         "coastlinecolor": "black",
         "countrycolor": "black",
         "domain": {
          "x": [
           0,
           1
          ],
          "y": [
           0,
           1
          ]
         },
         "landcolor": "lightgray",
         "oceancolor": "lightblue",
         "projection": {
          "type": "orthographic"
         },
         "showcoastlines": true,
         "showcountries": true,
         "showland": true,
         "showocean": true
        },
        "legend": {
         "itemsizing": "constant",
         "tracegroupgap": 0
        },
        "template": {
         "data": {
          "bar": [
           {
            "error_x": {
             "color": "#2a3f5f"
            },
            "error_y": {
             "color": "#2a3f5f"
            },
            "marker": {
             "line": {
              "color": "#E5ECF6",
              "width": 0.5
             },
             "pattern": {
              "fillmode": "overlay",
              "size": 10,
              "solidity": 0.2
             }
            },
            "type": "bar"
           }
          ],
          "barpolar": [
           {
            "marker": {
             "line": {
              "color": "#E5ECF6",
              "width": 0.5
             },
             "pattern": {
              "fillmode": "overlay",
              "size": 10,
              "solidity": 0.2
             }
            },
            "type": "barpolar"
           }
          ],
          "carpet": [
           {
            "aaxis": {
             "endlinecolor": "#2a3f5f",
             "gridcolor": "white",
             "linecolor": "white",
             "minorgridcolor": "white",
             "startlinecolor": "#2a3f5f"
            },
            "baxis": {
             "endlinecolor": "#2a3f5f",
             "gridcolor": "white",
             "linecolor": "white",
             "minorgridcolor": "white",
             "startlinecolor": "#2a3f5f"
            },
            "type": "carpet"
           }
          ],
          "choropleth": [
           {
            "colorbar": {
             "outlinewidth": 0,
             "ticks": ""
            },
            "type": "choropleth"
           }
          ],
          "contour": [
           {
            "colorbar": {
             "outlinewidth": 0,
             "ticks": ""
            },
            "colorscale": [
             [
              0,
              "#0d0887"
             ],
             [
              0.1111111111111111,
              "#46039f"
             ],
             [
              0.2222222222222222,
              "#7201a8"
             ],
             [
              0.3333333333333333,
              "#9c179e"
             ],
             [
              0.4444444444444444,
              "#bd3786"
             ],
             [
              0.5555555555555556,
              "#d8576b"
             ],
             [
              0.6666666666666666,
              "#ed7953"
             ],
             [
              0.7777777777777778,
              "#fb9f3a"
             ],
             [
              0.8888888888888888,
              "#fdca26"
             ],
             [
              1,
              "#f0f921"
             ]
            ],
            "type": "contour"
           }
          ],
          "contourcarpet": [
           {
            "colorbar": {
             "outlinewidth": 0,
             "ticks": ""
            },
            "type": "contourcarpet"
           }
          ],
          "heatmap": [
           {
            "colorbar": {
             "outlinewidth": 0,
             "ticks": ""
            },
            "colorscale": [
             [
              0,
              "#0d0887"
             ],
             [
              0.1111111111111111,
              "#46039f"
             ],
             [
              0.2222222222222222,
              "#7201a8"
             ],
             [
              0.3333333333333333,
              "#9c179e"
             ],
             [
              0.4444444444444444,
              "#bd3786"
             ],
             [
              0.5555555555555556,
              "#d8576b"
             ],
             [
              0.6666666666666666,
              "#ed7953"
             ],
             [
              0.7777777777777778,
              "#fb9f3a"
             ],
             [
              0.8888888888888888,
              "#fdca26"
             ],
             [
              1,
              "#f0f921"
             ]
            ],
            "type": "heatmap"
           }
          ],
          "heatmapgl": [
           {
            "colorbar": {
             "outlinewidth": 0,
             "ticks": ""
            },
            "colorscale": [
             [
              0,
              "#0d0887"
             ],
             [
              0.1111111111111111,
              "#46039f"
             ],
             [
              0.2222222222222222,
              "#7201a8"
             ],
             [
              0.3333333333333333,
              "#9c179e"
             ],
             [
              0.4444444444444444,
              "#bd3786"
             ],
             [
              0.5555555555555556,
              "#d8576b"
             ],
             [
              0.6666666666666666,
              "#ed7953"
             ],
             [
              0.7777777777777778,
              "#fb9f3a"
             ],
             [
              0.8888888888888888,
              "#fdca26"
             ],
             [
              1,
              "#f0f921"
             ]
            ],
            "type": "heatmapgl"
           }
          ],
          "histogram": [
           {
            "marker": {
             "pattern": {
              "fillmode": "overlay",
              "size": 10,
              "solidity": 0.2
             }
            },
            "type": "histogram"
           }
          ],
          "histogram2d": [
           {
            "colorbar": {
             "outlinewidth": 0,
             "ticks": ""
            },
            "colorscale": [
             [
              0,
              "#0d0887"
             ],
             [
              0.1111111111111111,
              "#46039f"
             ],
             [
              0.2222222222222222,
              "#7201a8"
             ],
             [
              0.3333333333333333,
              "#9c179e"
             ],
             [
              0.4444444444444444,
              "#bd3786"
             ],
             [
              0.5555555555555556,
              "#d8576b"
             ],
             [
              0.6666666666666666,
              "#ed7953"
             ],
             [
              0.7777777777777778,
              "#fb9f3a"
             ],
             [
              0.8888888888888888,
              "#fdca26"
             ],
             [
              1,
              "#f0f921"
             ]
            ],
            "type": "histogram2d"
           }
          ],
          "histogram2dcontour": [
           {
            "colorbar": {
             "outlinewidth": 0,
             "ticks": ""
            },
            "colorscale": [
             [
              0,
              "#0d0887"
             ],
             [
              0.1111111111111111,
              "#46039f"
             ],
             [
              0.2222222222222222,
              "#7201a8"
             ],
             [
              0.3333333333333333,
              "#9c179e"
             ],
             [
              0.4444444444444444,
              "#bd3786"
             ],
             [
              0.5555555555555556,
              "#d8576b"
             ],
             [
              0.6666666666666666,
              "#ed7953"
             ],
             [
              0.7777777777777778,
              "#fb9f3a"
             ],
             [
              0.8888888888888888,
              "#fdca26"
             ],
             [
              1,
              "#f0f921"
             ]
            ],
            "type": "histogram2dcontour"
           }
          ],
          "mesh3d": [
           {
            "colorbar": {
             "outlinewidth": 0,
             "ticks": ""
            },
            "type": "mesh3d"
           }
          ],
          "parcoords": [
           {
            "line": {
             "colorbar": {
              "outlinewidth": 0,
              "ticks": ""
             }
            },
            "type": "parcoords"
           }
          ],
          "pie": [
           {
            "automargin": true,
            "type": "pie"
           }
          ],
          "scatter": [
           {
            "fillpattern": {
             "fillmode": "overlay",
             "size": 10,
             "solidity": 0.2
            },
            "type": "scatter"
           }
          ],
          "scatter3d": [
           {
            "line": {
             "colorbar": {
              "outlinewidth": 0,
              "ticks": ""
             }
            },
            "marker": {
             "colorbar": {
              "outlinewidth": 0,
              "ticks": ""
             }
            },
            "type": "scatter3d"
           }
          ],
          "scattercarpet": [
           {
            "marker": {
             "colorbar": {
              "outlinewidth": 0,
              "ticks": ""
             }
            },
            "type": "scattercarpet"
           }
          ],
          "scattergeo": [
           {
            "marker": {
             "colorbar": {
              "outlinewidth": 0,
              "ticks": ""
             }
            },
            "type": "scattergeo"
           }
          ],
          "scattergl": [
           {
            "marker": {
             "colorbar": {
              "outlinewidth": 0,
              "ticks": ""
             }
            },
            "type": "scattergl"
           }
          ],
          "scattermapbox": [
           {
            "marker": {
             "colorbar": {
              "outlinewidth": 0,
              "ticks": ""
             }
            },
            "type": "scattermapbox"
           }
          ],
          "scatterpolar": [
           {
            "marker": {
             "colorbar": {
              "outlinewidth": 0,
              "ticks": ""
             }
            },
            "type": "scatterpolar"
           }
          ],
          "scatterpolargl": [
           {
            "marker": {
             "colorbar": {
              "outlinewidth": 0,
              "ticks": ""
             }
            },
            "type": "scatterpolargl"
           }
          ],
          "scatterternary": [
           {
            "marker": {
             "colorbar": {
              "outlinewidth": 0,
              "ticks": ""
             }
            },
            "type": "scatterternary"
           }
          ],
          "surface": [
           {
            "colorbar": {
             "outlinewidth": 0,
             "ticks": ""
            },
            "colorscale": [
             [
              0,
              "#0d0887"
             ],
             [
              0.1111111111111111,
              "#46039f"
             ],
             [
              0.2222222222222222,
              "#7201a8"
             ],
             [
              0.3333333333333333,
              "#9c179e"
             ],
             [
              0.4444444444444444,
              "#bd3786"
             ],
             [
              0.5555555555555556,
              "#d8576b"
             ],
             [
              0.6666666666666666,
              "#ed7953"
             ],
             [
              0.7777777777777778,
              "#fb9f3a"
             ],
             [
              0.8888888888888888,
              "#fdca26"
             ],
             [
              1,
              "#f0f921"
             ]
            ],
            "type": "surface"
           }
          ],
          "table": [
           {
            "cells": {
             "fill": {
              "color": "#EBF0F8"
             },
             "line": {
              "color": "white"
             }
            },
            "header": {
             "fill": {
              "color": "#C8D4E3"
             },
             "line": {
              "color": "white"
             }
            },
            "type": "table"
           }
          ]
         },
         "layout": {
          "annotationdefaults": {
           "arrowcolor": "#2a3f5f",
           "arrowhead": 0,
           "arrowwidth": 1
          },
          "autotypenumbers": "strict",
          "coloraxis": {
           "colorbar": {
            "outlinewidth": 0,
            "ticks": ""
           }
          },
          "colorscale": {
           "diverging": [
            [
             0,
             "#8e0152"
            ],
            [
             0.1,
             "#c51b7d"
            ],
            [
             0.2,
             "#de77ae"
            ],
            [
             0.3,
             "#f1b6da"
            ],
            [
             0.4,
             "#fde0ef"
            ],
            [
             0.5,
             "#f7f7f7"
            ],
            [
             0.6,
             "#e6f5d0"
            ],
            [
             0.7,
             "#b8e186"
            ],
            [
             0.8,
             "#7fbc41"
            ],
            [
             0.9,
             "#4d9221"
            ],
            [
             1,
             "#276419"
            ]
           ],
           "sequential": [
            [
             0,
             "#0d0887"
            ],
            [
             0.1111111111111111,
             "#46039f"
            ],
            [
             0.2222222222222222,
             "#7201a8"
            ],
            [
             0.3333333333333333,
             "#9c179e"
            ],
            [
             0.4444444444444444,
             "#bd3786"
            ],
            [
             0.5555555555555556,
             "#d8576b"
            ],
            [
             0.6666666666666666,
             "#ed7953"
            ],
            [
             0.7777777777777778,
             "#fb9f3a"
            ],
            [
             0.8888888888888888,
             "#fdca26"
            ],
            [
             1,
             "#f0f921"
            ]
           ],
           "sequentialminus": [
            [
             0,
             "#0d0887"
            ],
            [
             0.1111111111111111,
             "#46039f"
            ],
            [
             0.2222222222222222,
             "#7201a8"
            ],
            [
             0.3333333333333333,
             "#9c179e"
            ],
            [
             0.4444444444444444,
             "#bd3786"
            ],
            [
             0.5555555555555556,
             "#d8576b"
            ],
            [
             0.6666666666666666,
             "#ed7953"
            ],
            [
             0.7777777777777778,
             "#fb9f3a"
            ],
            [
             0.8888888888888888,
             "#fdca26"
            ],
            [
             1,
             "#f0f921"
            ]
           ]
          },
          "colorway": [
           "#636efa",
           "#EF553B",
           "#00cc96",
           "#ab63fa",
           "#FFA15A",
           "#19d3f3",
           "#FF6692",
           "#B6E880",
           "#FF97FF",
           "#FECB52"
          ],
          "font": {
           "color": "#2a3f5f"
          },
          "geo": {
           "bgcolor": "white",
           "lakecolor": "white",
           "landcolor": "#E5ECF6",
           "showlakes": true,
           "showland": true,
           "subunitcolor": "white"
          },
          "hoverlabel": {
           "align": "left"
          },
          "hovermode": "closest",
          "mapbox": {
           "style": "light"
          },
          "paper_bgcolor": "white",
          "plot_bgcolor": "#E5ECF6",
          "polar": {
           "angularaxis": {
            "gridcolor": "white",
            "linecolor": "white",
            "ticks": ""
           },
           "bgcolor": "#E5ECF6",
           "radialaxis": {
            "gridcolor": "white",
            "linecolor": "white",
            "ticks": ""
           }
          },
          "scene": {
           "xaxis": {
            "backgroundcolor": "#E5ECF6",
            "gridcolor": "white",
            "gridwidth": 2,
            "linecolor": "white",
            "showbackground": true,
            "ticks": "",
            "zerolinecolor": "white"
           },
           "yaxis": {
            "backgroundcolor": "#E5ECF6",
            "gridcolor": "white",
            "gridwidth": 2,
            "linecolor": "white",
            "showbackground": true,
            "ticks": "",
            "zerolinecolor": "white"
           },
           "zaxis": {
            "backgroundcolor": "#E5ECF6",
            "gridcolor": "white",
            "gridwidth": 2,
            "linecolor": "white",
            "showbackground": true,
            "ticks": "",
            "zerolinecolor": "white"
           }
          },
          "shapedefaults": {
           "line": {
            "color": "#2a3f5f"
           }
          },
          "ternary": {
           "aaxis": {
            "gridcolor": "white",
            "linecolor": "white",
            "ticks": ""
           },
           "baxis": {
            "gridcolor": "white",
            "linecolor": "white",
            "ticks": ""
           },
           "bgcolor": "#E5ECF6",
           "caxis": {
            "gridcolor": "white",
            "linecolor": "white",
            "ticks": ""
           }
          },
          "title": {
           "x": 0.05
          },
          "xaxis": {
           "automargin": true,
           "gridcolor": "white",
           "linecolor": "white",
           "ticks": "",
           "title": {
            "standoff": 15
           },
           "zerolinecolor": "white",
           "zerolinewidth": 2
          },
          "yaxis": {
           "automargin": true,
           "gridcolor": "white",
           "linecolor": "white",
           "ticks": "",
           "title": {
            "standoff": 15
           },
           "zerolinecolor": "white",
           "zerolinewidth": 2
          }
         }
        },
        "title": {
         "font": {
          "size": 16
         },
         "text": "Average Human Development Index vs Average Economic Growth by Country"
        }
       }
      }
     },
     "metadata": {},
     "output_type": "display_data"
    }
   ],
   "source": [
    "data = {\n",
    "    'Country': ['USA', 'China', 'India', 'Brazil', 'South Africa'],\n",
    "    'Human Development Index (0 - 1)': [0.926, 0.758, 0.645, 0.699, 0.711],\n",
    "    'Economic growth: the rate of change of real GDP': [2.3, 6.0, 5.0, 1.0, 3.0],\n",
    "    'Latitude': [37.0902, 35.8617, 20.5937, -14.2350, -30.5595],\n",
    "    'Longitude': [-95.7129, 104.1954, 78.9629, -51.9253, 22.9375]\n",
    "}\n",
    "avg_df = pd.DataFrame(data)\n",
    "\n",
    "# Create globe plot with Plotly\n",
    "fig = px.scatter_geo(avg_df, \n",
    "                     locations='Country', \n",
    "                     locationmode='country names', \n",
    "                     size='Economic growth: the rate of change of real GDP',\n",
    "                     color='Human Development Index (0 - 1)',\n",
    "                     hover_name='Country',\n",
    "                     size_max=100,\n",
    "                     title='Average Human Development Index vs Average Economic Growth by Country')\n",
    "\n",
    "# Customize layout for better readability\n",
    "fig.update_layout(\n",
    "    title=dict(font=dict(size=16)),\n",
    "    geo=dict(\n",
    "        showland=True,\n",
    "        landcolor='lightgray',\n",
    "        showocean=True,\n",
    "        oceancolor='lightblue',\n",
    "        projection=dict(type='orthographic'),  # Choose projection type\n",
    "        showcoastlines=True,\n",
    "        coastlinecolor='black',\n",
    "        showcountries=True,\n",
    "        countrycolor='black'\n",
    "    ),\n",
    "    coloraxis_colorbar=dict(\n",
    "        title='Human Development Index',\n",
    "        tickvals=[0.6, 0.7, 0.8, 0.9],\n",
    "        ticktext=['0.6', '0.7', '0.8', '0.9']\n",
    "    )\n",
    ")\n",
    "\n",
    "# Show the plot\n",
    "fig.show()"
   ]
  }
 ],
 "metadata": {
  "kernelspec": {
   "display_name": "base",
   "language": "python",
   "name": "python3"
  },
  "language_info": {
   "codemirror_mode": {
    "name": "ipython",
    "version": 3
   },
   "file_extension": ".py",
   "mimetype": "text/x-python",
   "name": "python",
   "nbconvert_exporter": "python",
   "pygments_lexer": "ipython3",
   "version": "3.11.7"
  }
 },
 "nbformat": 4,
 "nbformat_minor": 2
}
